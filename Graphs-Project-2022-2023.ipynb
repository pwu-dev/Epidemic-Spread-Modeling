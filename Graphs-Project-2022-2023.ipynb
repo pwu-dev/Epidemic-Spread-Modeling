{
 "cells": [
  {
   "attachments": {},
   "cell_type": "markdown",
   "metadata": {},
   "source": [
    "<center><h1>Graph project: Epidemic spreading</h1></center>\n",
    "\n",
    "<center><h4>ENSEEIHT SN</h4></center>\n",
    "<center><h4>WU Philippe, LANDURE Jos</h4></center>"
   ]
  },
  {
   "cell_type": "markdown",
   "metadata": {},
   "source": [
    "<div style=\"width:75%;margin:0 auto;\">\n",
    "    \n",
    "## Introduction\n",
    "<a id='intro'></a>\n",
    "    \n",
    "<p style=\"text-align:justify;\"> As you know, a new epidemic has overwhelmed the world, COVID-19 jeopardizes people and changes our habits. It is easy to realise that knowing how illnesses spread is vital to our own protection. How can we predict whether a disease will cause an epidemic, how many people it will infect, which people it will infect, and whether or not it is dangerous to society as a whole ? Also, how can we determine which techniques to use in fighting an epidemic once it begins ? One way to answer all of these questions is through <strong>mathematical modeling</strong>. </p>\n",
    "\n",
    "<p style=\"text-align:justify;\"> In this work you will have to review different epidemic modelings relying all on the representation by graphs of a human network called a <strong>contact network</strong>. A vertex in a contact network represents an individual and an edge between two vertices represents a contact between two individuals. The disease only spread from individual to individual if they are in contact, so through the edges. This representation is actually really common in research, and a lot of state-of-the-art modeling are built over it. From these different models you will be asked to draw conclusions from experiments on varying contact networks</p>\n",
    "\n",
    "<p style=\"text-align:justify;\"> For readability and ease of use, this project will be carried on a Jupyter Notebook, hence code and question answering have to be written in this unique file. This is a <strong>DUO</strong> project, no group of one person will be accepted, the duo has to be composed of same TD group students, if the number of students in the TD group is odd we will accept one group composed of three students. It will be coded in Julia using the LightGraphs package. <strong>BEWARE:</strong> \n",
    "    \n",
    "- If the code does not provide good results, its readability as well as its comments are essential for the corrector to potentially find some notation points.\n",
    "- The specifications of the functions have to be strictly respected.\n",
    "- Do not neglect written questions they stand for an important part of the notation, you are not only evaluated on the coding. Also, even so a written question may not ask you directly to code or provide results from code, support your arguments when possible with a runable example is very welcome and sometimes even expected.\n",
    "- Any initiatives and additional efforts bringing contents and thoughts out of the question scope may result in bonus points if pertinent.\n",
    "</p> \n",
    "    \n",
    "<p style=\"text-align:justify;\"> Deliverable: You will deliver your work on moodle before <strong style=\"font-size:1.3em\">23.01.2022</strong> in a <strong style=\"font-size:1.3em\">.tar</strong> containing the notebook with your codes and your written answers, and the different graph figures in .png you will generate. The corrector will use the student N7 computers for running your code, so take care of verifying that your work is running as expected on these computers !</p>\n",
    "\n",
    "LightGraphs documentation: https://juliagraphs.org/LightGraphs.jl/v1.2/index.html\n",
    "    \n",
    "<!---\n",
    "http://makie.juliaplots.org/stable/basic-tutorial.html#Adding-plots-to-a-Scene\n",
    "TODO: afficher l'historique gplot des graphes durant la simu pour voir visuellement ce que ça donne. Peut etre necessiter de locker l'affichage graphique.\n",
    "afficher pour tau fixer sur different graphe de degré le nombre max d'infecté durant la simu.\n",
    "    \n",
    "Faire coder le modèle SAIS et SIR\n",
    "\n",
    "    Pour SIR faire la courbe dans un des sites dans les favoris\n",
    "    \n",
    "    Expliquer en quoi la distance et Jordan ne sont pas tout le temps optimal. Expliquer pourquoi le DMP peut présenter de meilleur résultat.\n",
    "\n",
    "Demander d'imaginer d'autres modèle inspirer de maladie\n",
    "--->"
   ]
  },
  {
   "cell_type": "markdown",
   "metadata": {},
   "source": [
    "<div style=\"width:75%;margin:0 auto;\">\n",
    "\n",
    "## Environment and packages installation\n",
    "<a id='env'></a>\n",
    "    \n",
    "\n",
    "<p style=\"text-align:justify;\"> <strong>IMPORTANT</strong>: For evaluation, coding questions have to run with no additional packages ! Only the ones present here ! However if you want to use another package to go further in your answer and add bonus contents, take care of separating the cells and precising which packages you are using.</p>"
   ]
  },
  {
   "attachments": {},
   "cell_type": "markdown",
   "metadata": {},
   "source": [
    "### Notes for me (TO REMIND)"
   ]
  },
  {
   "cell_type": "code",
   "execution_count": null,
   "metadata": {},
   "outputs": [],
   "source": [
    "\"\"\"\n",
    "1. zeros(i,j) != zeros(i) : \n",
    "    Le premier crée une matrice, le second un vecteur --> IMPORTANT car findall(condition,data) ne renvoie pas le même type de données en fonction du type de data\n",
    "\n",
    "2. neighbors(net,vertex) :\n",
    "    Attention à faire une deepcopy() SI il y a modification du net -> induit des erreurs sur rem_edge()\n",
    "\n",
    "3. rem_vertex(net,vertex) :\n",
    "    A NE PAS UTILISER -> modifie l'ordre des numéros des sommets. Par exemple si on supprime le 1er, c'est le dernier sommet qui se retrouve avec le numéro 1.\n",
    "\n",
    "4. fill(value,vector_length) :\n",
    "    Créer un vecteur initialisé avec la valeur value\n",
    "\"\"\""
   ]
  },
  {
   "cell_type": "markdown",
   "metadata": {},
   "source": [
    "### Installation des packages"
   ]
  },
  {
   "cell_type": "code",
   "execution_count": 2,
   "metadata": {},
   "outputs": [
    {
     "name": "stderr",
     "output_type": "stream",
     "text": [
      "\u001b[32m\u001b[1m  Activating\u001b[22m\u001b[39m project at `~/Use/N7_1A/2A/S7/UE10-Graphes/graph-project`\n"
     ]
    },
    {
     "name": "stderr",
     "output_type": "stream",
     "text": [
      "\u001b[32m\u001b[1m  No Changes\u001b[22m\u001b[39m to `~/Use/N7_1A/2A/S7/UE10-Graphes/graph-project/Project.toml`\n",
      "\u001b[32m\u001b[1m  No Changes\u001b[22m\u001b[39m to `~/Use/N7_1A/2A/S7/UE10-Graphes/graph-project/Manifest.toml`\n"
     ]
    },
    {
     "name": "stderr",
     "output_type": "stream",
     "text": [
      "┌ Warning: could not download https://pkg.julialang.org/registries\n",
      "│   exception = Downloads.RequestError(\"https://pkg.julialang.org/registries\", 6, \"Could not resolve host: pkg.julialang.org\", Downloads.Response(nothing, \"https://pkg.julialang.org/registries\", 0, \"\", Pair{String, String}[]))\n",
      "└ @ Pkg.Registry /Users/administrator/.julia/scratchspaces/a66863c6-20e8-4ff4-8a62-49f30b1f605e/agent-cache/default-macmini-aarch64-1.0/build/default-macmini-aarch64-1-0/julialang/julia-release-1-dot-8/usr/share/julia/stdlib/v1.8/Pkg/src/Registry/Registry.jl:68\n",
      "\u001b[32m\u001b[1m    Updating\u001b[22m\u001b[39m registry at `~/.julia/registries/General.toml`\n",
      "\u001b[32m\u001b[1m   Resolving\u001b[22m\u001b[39m package versions...\n",
      "\u001b[32m\u001b[1m  No Changes\u001b[22m\u001b[39m"
     ]
    },
    {
     "name": "stderr",
     "output_type": "stream",
     "text": [
      " to `~/Use/N7_1A/2A/S7/UE10-Graphes/graph-project/Project.toml`\n",
      "\u001b[32m\u001b[1m  No Changes\u001b[22m\u001b[39m to `~/Use/N7_1A/2A/S7/UE10-Graphes/graph-project/Manifest.toml`\n"
     ]
    },
    {
     "name": "stderr",
     "output_type": "stream",
     "text": [
      "\u001b[32m\u001b[1m   Resolving\u001b[22m\u001b[39m package versions...\n"
     ]
    },
    {
     "name": "stderr",
     "output_type": "stream",
     "text": [
      "\u001b[32m\u001b[1m  No Changes\u001b[22m\u001b[39m to `~/Use/N7_1A/2A/S7/UE10-Graphes/graph-project/Project.toml`\n",
      "\u001b[32m\u001b[1m  No Changes\u001b[22m\u001b[39m to `~/Use/N7_1A/2A/S7/UE10-Graphes/graph-project/Manifest.toml`\n"
     ]
    },
    {
     "name": "stderr",
     "output_type": "stream",
     "text": [
      "\u001b[32m\u001b[1m   Resolving\u001b[22m\u001b[39m package versions...\n"
     ]
    },
    {
     "name": "stderr",
     "output_type": "stream",
     "text": [
      "\u001b[32m\u001b[1m  No Changes\u001b[22m\u001b[39m to `~/Use/N7_1A/2A/S7/UE10-Graphes/graph-project/Project.toml`\n",
      "\u001b[32m\u001b[1m  No Changes\u001b[22m\u001b[39m to `~/Use/N7_1A/2A/S7/UE10-Graphes/graph-project/Manifest.toml`\n"
     ]
    },
    {
     "name": "stderr",
     "output_type": "stream",
     "text": [
      "\u001b[32m\u001b[1m   Resolving\u001b[22m\u001b[39m package versions...\n"
     ]
    },
    {
     "name": "stderr",
     "output_type": "stream",
     "text": [
      "\u001b[32m\u001b[1m  No Changes\u001b[22m\u001b[39m to `~/Use/N7_1A/2A/S7/UE10-Graphes/graph-project/Project.toml`\n",
      "\u001b[32m\u001b[1m  No Changes\u001b[22m\u001b[39m to `~/Use/N7_1A/2A/S7/UE10-Graphes/graph-project/Manifest.toml`\n"
     ]
    },
    {
     "name": "stderr",
     "output_type": "stream",
     "text": [
      "\u001b[32m\u001b[1m   Resolving\u001b[22m\u001b[39m package versions...\n"
     ]
    },
    {
     "name": "stderr",
     "output_type": "stream",
     "text": [
      "\u001b[32m\u001b[1m  No Changes\u001b[22m\u001b[39m to `~/Use/N7_1A/2A/S7/UE10-Graphes/graph-project/Project.toml`\n",
      "\u001b[32m\u001b[1m  No Changes\u001b[22m\u001b[39m to `~/Use/N7_1A/2A/S7/UE10-Graphes/graph-project/Manifest.toml`\n"
     ]
    },
    {
     "name": "stderr",
     "output_type": "stream",
     "text": [
      "\u001b[32m\u001b[1m   Resolving\u001b[22m\u001b[39m package versions...\n"
     ]
    },
    {
     "name": "stderr",
     "output_type": "stream",
     "text": [
      "\u001b[32m\u001b[1m  No Changes\u001b[22m\u001b[39m to `~/Use/N7_1A/2A/S7/UE10-Graphes/graph-project/Project.toml`\n",
      "\u001b[32m\u001b[1m  No Changes\u001b[22m\u001b[39m to `~/Use/N7_1A/2A/S7/UE10-Graphes/graph-project/Manifest.toml`\n"
     ]
    },
    {
     "name": "stderr",
     "output_type": "stream",
     "text": [
      "\u001b[32m\u001b[1m   Resolving\u001b[22m\u001b[39m package versions...\n"
     ]
    },
    {
     "name": "stderr",
     "output_type": "stream",
     "text": [
      "\u001b[32m\u001b[1m  No Changes\u001b[22m\u001b[39m to `~/Use/N7_1A/2A/S7/UE10-Graphes/graph-project/Project.toml`\n",
      "\u001b[32m\u001b[1m  No Changes\u001b[22m\u001b[39m to `~/Use/N7_1A/2A/S7/UE10-Graphes/graph-project/Manifest.toml`\n"
     ]
    }
   ],
   "source": [
    "using Pkg\n",
    "Pkg.activate(\".\") # Path to Manifest.toml and Project.toml\n",
    "Pkg.resolve()\n",
    "Pkg.add(\"Graphs\")\n",
    "Pkg.add(\"LightGraphs\")\n",
    "Pkg.add(\"Colors\")\n",
    "Pkg.add(\"CairoMakie\")\n",
    "Pkg.add(\"StatsBase\")\n",
    "Pkg.add(\"JLD2\")\n",
    "Pkg.add(\"Compose\")"
   ]
  },
  {
   "cell_type": "markdown",
   "metadata": {},
   "source": [
    "### Import des packages"
   ]
  },
  {
   "cell_type": "code",
   "execution_count": 2,
   "metadata": {},
   "outputs": [
    {
     "name": "stderr",
     "output_type": "stream",
     "text": [
      "\u001b[32m\u001b[1m  Activating\u001b[22m\u001b[39m project at `~/Use/N7_1A/2A/S7/UE10-Graphes/graph-project-WU-LANDURE`\n"
     ]
    }
   ],
   "source": [
    "# Import packages\n",
    "using Pkg\n",
    "Pkg.activate(\".\") # Path to Manifest.toml and Project.toml\n",
    "using GraphPlot\n",
    "using Colors\n",
    "using CairoMakie\n",
    "using StatsBase\n",
    "using Plots\n",
    "using JLD2\n",
    "using Compose\n",
    "using Graphs"
   ]
  },
  {
   "cell_type": "markdown",
   "metadata": {},
   "source": [
    "<div style=\"width:75%;margin:0 auto;\">\n",
    "\n",
    "## Part 1 - SIS model\n",
    "<a id='part1'></a>\n",
    "\n",
    "<p style=\"text-align:justify;\">SIS is a compartmental model, ie a model where the population is divided into subgroups that represent the disease status of its members. SIS stands for Susceptible $\\rightarrow$ Infected $\\rightarrow$ Susceptible where the susceptible group contains those who remain susceptible to the infection, and the infected group consists of those who not only have the disease but are also in the contagious period of the disease.</p>\n",
    "    \n",
    "<p style=\"text-align:justify;\"> Combine with a contact network approach, this model can capture contact patterns (family, company, friends). Each vertex represents an individual in the host population, and contacts between two individuals are represented by an edge that connects the two. The probability of transmitting the disease from an infected to a susceptible individual along one of these edges or contacts is $\\beta$ (=<strong>infection rate</strong>). The probability to cure is $\\alpha$ (= <strong>curing rate</strong>). </p>\n",
    "\n",
    "    \n",
    "<p style=\"text-align:justify;\">In order for a disease to begin spreading through a network, the disease must be introduced into the population, either through infecting a proportion of the population or through infecting one individual. As time moves forward, the disease will spread away from those initially infected, and two things may occur simultaneously at each time step $t$. First, each infected individual will spread disease to each of its contacts with a probability $\\beta$. Secondly, each infectious individual will recover at a rate, $\\alpha$ , at which point the individual will then no longer infect any of its contacts. After the disease has run its course, we can determine how the disease affected the network by calculating various quantities that help us better understand the outbreak.\n",
    "</p>\n",
    "\n",
    "<br>\n",
    "    \n",
    "<p style=\"font-size:0.9em\">P. Van Mieghem, J. Omic, R. E. Kooij, <em>“Virus Spread in Networks”</em>,\n",
    "IEEE/ACM Transaction on Networking (2009)<p>\n",
    "\n",
    "\n",
    "<!---\n",
    "<div style=\"background-color:rgba(0, 0, 0, 0.0470588); padding:10px 0;font-family:monospace;\">\n",
    "<font size = 4.5px><b>Algorithm 1:</b> Girvan Newman</font><br>\n",
    "    <div style=\"margin-left:50px;border-left:2px solid black;padding-left:10px;\">\n",
    "    <b> WHILE </b> there are still edges<b> OR </b> desired nb of communities unreached <b>DO</b>\n",
    "        <div style=\"margin-left:50px;border-left:2px solid black;padding-left:10px;\">\n",
    "        Calculate betweeness of all edges <br>\n",
    "        Remove the edge with the highest betweeness <br>\n",
    "        Calculate the number of strongly connected components\n",
    "        </div>\n",
    "    <b> END WHILE </b>   \n",
    "    </div>\n",
    "</div>\n",
    "--->"
   ]
  },
  {
   "cell_type": "markdown",
   "metadata": {},
   "source": [
    "<div style=\"width:75%;margin:0 auto;\">\n",
    "\n",
    "### 1.1 Contact networks sample"
   ]
  },
  {
   "cell_type": "code",
   "execution_count": 3,
   "metadata": {},
   "outputs": [],
   "source": [
    "\"\"\"karat7: A graph representing the karate club of N7 and the connections between the persons in this club.\n",
    "There are 34 people in this network. It is actually inspired by one of the most famous problem in graph\n",
    "theory: the Zachary's karate club.\n",
    "\"\"\"\n",
    "karat7 = smallgraph(:karate)\n",
    "nodecolor = [colorant\"lightseagreen\"]\n",
    "draw(PNG(\"karat7.png\", 100cm, 100cm), gplot(karat7,nodefillc=nodecolor))\n"
   ]
  },
  {
   "cell_type": "code",
   "execution_count": 4,
   "metadata": {},
   "outputs": [],
   "source": [
    "\"\"\"n7_2A: A graph representing the second year students at N7. Each department (SN, MF2E, 3EA) form a \n",
    "community where connections are denser, connections between department are rarer.\n",
    "\"\"\"\n",
    "c=[[10,0,0] [0.1,10,0] [0.1,0.1,10]]\n",
    "n=[100,70,50]\n",
    "n7_2A = stochastic_block_model(c,n)\n",
    "nodecolor = [colorant\"lightseagreen\"]\n",
    "draw(PNG(\"n7_2A.png\", 100cm, 100cm), gplot(n7_2A,nodefillc=nodecolor))\n"
   ]
  },
  {
   "cell_type": "code",
   "execution_count": 5,
   "metadata": {},
   "outputs": [],
   "source": [
    "\"\"\"toulouse_neigh: A graph representing a neighborhood composed of 1000 people in Toulouse.\n",
    "\"\"\"\n",
    "toulouse_neigh = barabasi_albert(1000, 1)\n",
    "nodecolor = [colorant\"lightseagreen\"]\n",
    "draw(PNG(\"toulouse_neigh.png\", 100cm, 100cm), gplot(toulouse_neigh,nodefillc=nodecolor))"
   ]
  },
  {
   "cell_type": "markdown",
   "metadata": {},
   "source": [
    "<div style=\"width:75%;margin:0 auto;\">\n",
    "  \n",
    "### 1.2 Introduce the infection\n",
    "    \n",
    "<p style=\"text-align:justify;\">We denote by <code>state</code> a vector containing the disease status of each vertex where Susceptible=0 and Infected=1. Then <code>state</code> is an <code>Array{Int32,1}</code> of length the number of vertices. This array in addition of a graph (represented internally by an adjacency matrix or an adjacency list) will be the data structure of our model.</p>\n",
    "    \n",
    "<span style=\"font-size:0.9em\">In <code>Array{Int32,1}</code>, <code>Int32</code> refers to the kind of data in the array, here 32 bits integers, <code>1</code> refers to the dimension of the array, here we have a 1-dimensional structure so a vector.</span>"
   ]
  },
  {
   "cell_type": "markdown",
   "metadata": {},
   "source": [
    "<div style=\"width:75%;margin:0 auto;\">\n",
    "\n",
    "<strong style=\"color:cornflowerblue\">Question 1 (code):</strong> For each graph in the graph sample (<code>karat7</code>, <code>n7_2A</code>, <code>toulouse_neigh</code>) initialize the state array by assigning each vertex to susceptible and add randomly one or numerous infected people. Save the graph as a .png image using <code>gplot</code> and <code>draw</code>, infected should appear in a different color (<code>colorant\"orange\"</code>).\n",
    "    \n",
    "Due to a bug on certain version of Jupyter Notebook, the graph <span style=\"font-size:1.3em\">figures should be saved in a file and not plot inside the notebook </span> !!!\n",
    "    \n",
    "Gplot GitHub: https://github.com/JuliaGraphs/GraphPlot.jl\n",
    "    \n",
    "Gplot examples: https://juliagraphs.org/GraphPlot.jl/"
   ]
  },
  {
   "cell_type": "code",
   "execution_count": 6,
   "metadata": {},
   "outputs": [],
   "source": [
    "\"\"\"state_karat7: a vector representing the state of each vertex\n",
    "\"\"\"\n",
    "# Initialisation of the vector with the number of vertices, value = 0 --> not infected\n",
    "state_karat7 = fill(0, nv(karat7))\n",
    "max_nb_infected = 3\n",
    "# Generate max_nb_infected random numbers in range (1:nv(karat7))\n",
    "indice_infected = rand(1:nv(karat7), (1, max_nb_infected))\n",
    "# Update vertices which are infected, value = 1 --> infected\n",
    "state_karat7[indice_infected] .= 1\n",
    "\n",
    "# Set up the color of each vertex, value = 0 -> lightseagreen, value = 1 -> orange\n",
    "nodecolor = [colorant\"lightseagreen\", colorant\"orange\"]\n",
    "nodefillc = nodecolor[state_karat7.+1]\n",
    "# Add node label\n",
    "nodelabel_karat7 = 1:nv(karat7)\n",
    "nodelabelsize = 20\n",
    "# Draw \n",
    "draw(PNG(\"karat7_infected.png\", 100cm, 100cm), gplot(karat7,nodefillc=nodefillc,nodelabel=nodelabel_karat7,NODELABELSIZE = nodelabelsize))\n",
    "\n"
   ]
  },
  {
   "cell_type": "code",
   "execution_count": 7,
   "metadata": {},
   "outputs": [],
   "source": [
    "\"\"\"state_n7_2A: a vector representing the state of each vertex\n",
    "\"\"\"\n",
    "state_n7_2A = fill(0, nv(n7_2A))\n",
    "max_nb_infected = 10\n",
    "indice_infected = rand(1:nv(n7_2A), (1, max_nb_infected))\n",
    "state_n7_2A[indice_infected] .= 1\n",
    "\n",
    "# Add color \n",
    "nodecolor = [colorant\"lightseagreen\", colorant\"orange\"]\n",
    "nodefillc = nodecolor[state_n7_2A.+1]\n",
    "# No label because too much vertices\n",
    "draw(PNG(\"n7_2A_infected.png\", 100cm, 100cm), gplot(n7_2A,nodefillc=nodefillc))"
   ]
  },
  {
   "cell_type": "code",
   "execution_count": 8,
   "metadata": {},
   "outputs": [],
   "source": [
    "\"\"\"state_toulouse_neigh: a vector representing the state of each vertex\n",
    "\"\"\"\n",
    "state_toulouse_neigh = fill(0, nv(toulouse_neigh))\n",
    "max_nb_infected = 10\n",
    "indice_infected = rand(1:nv(toulouse_neigh), (1, max_nb_infected))\n",
    "state_toulouse_neigh[indice_infected] .= 1\n",
    "\n",
    "# Add color \n",
    "nodecolor = [colorant\"lightseagreen\", colorant\"orange\"]\n",
    "nodefillc = nodecolor[state_toulouse_neigh.+1]\n",
    "# No label because too much vertices\n",
    "draw(PNG(\"toulouse_neigh_infected.png\", 100cm, 100cm), gplot(toulouse_neigh,nodefillc=nodefillc))\n",
    "\n"
   ]
  },
  {
   "attachments": {},
   "cell_type": "markdown",
   "metadata": {},
   "source": [
    "<div style=\"width:75%;margin:0 auto;\">\n",
    "\n",
    "<strong style=\"color:cadetblue\">Question 2 (written):</strong> What do you think/predict about the influence of the initial number of infected people and their locations on the evolution of an SIS model epidemic ?\n",
    " \n",
    "<br>\n",
    "    \n",
    "<div style=\"background-color:#E7F1D1\"><strong>Answer:  \n",
    "\n",
    "1. Influence du nombre initial de personnes infectés :  \n",
    "Plus le nombre initial de personnes infectés plus l'évolution de l'épidémie sera rapide.  \n",
    "À l'inverse si le nombre initial est faible, il se peut que l'épidémie ne se propage pas et s'éteigne d'elle même.\n",
    "\n",
    "2. Influence de la localisation des personnes infectés :  \n",
    "Si les personnes infectés se trouvent dans des zones fortement connectés, la propagation sera plus rapide comme il va toucher plus de personnes en même temps.  \n",
    "Si la localisation des personnes infectés est dense localement, alors l'évolution de l'épidémie sera très rapide.  \n",
    "Si la localisation des personnes infectés est diffuse, alors l'évolution de l'épidémie sera plus lente et peut être limitée au niveau des régions infectés.\n",
    "\n",
    "</strong></div>"
   ]
  },
  {
   "cell_type": "markdown",
   "metadata": {},
   "source": [
    "<div style=\"width:75%;margin:0 auto;\">\n",
    "  \n",
    "### 1.3 Spread the infection"
   ]
  },
  {
   "cell_type": "markdown",
   "metadata": {},
   "source": [
    "<div style=\"width:75%;margin:0 auto;\">\n",
    "      \n",
    "<strong style=\"color:cornflowerblue\">Question 3 (code):</strong> Implement the <code>function SIS</code> (respect the header and the specifications). You can use <code>rand</code> to translate the probabilities. Test your algorithm on <code>karat7</code>, <code>n7_2A</code>, and <code>toulouse_neigh</code> with arbitrary $\\beta$, $\\alpha$, and $t$.\n",
    "    \n",
    "<span style=\"font-size:0.9em\">The corrector should be able to write <code>new_state = SIS(net,state,beta,alpha,t)</code> with your code.</span>"
   ]
  },
  {
   "cell_type": "code",
   "execution_count": 9,
   "metadata": {},
   "outputs": [
    {
     "data": {
      "text/plain": [
       "SIS (generic function with 1 method)"
      ]
     },
     "execution_count": 9,
     "metadata": {},
     "output_type": "execute_result"
    }
   ],
   "source": [
    "function SIS(net,state,beta,alpha,t)\n",
    "    \"\"\"Take a contact network at a certain state and apply t time steps\n",
    "    of an SIS model.\n",
    "    two things may occur simultaneously at each time step t :\n",
    "    First, each infected individual will spread disease to each of its contacts with a probability beta. \n",
    "    Secondly, each infectious individual will recover at a rate, alpha, \n",
    "    at which point the individual will then no longer infect any of its contacts.\n",
    "\n",
    "    PARAMS\n",
    "       net (LightGraph): graph representing the contact network\n",
    "       state (Array{Int32,1}): disease status of each vertex\n",
    "       beta (Float64): infection rate\n",
    "       alpha (Float64): curing rate\n",
    "       t (Int32): number of time step\n",
    "    \n",
    "    RETURNS\n",
    "        (Array{Int32,1}): The new state of the contact network after t time steps.\n",
    "    \"\"\"\n",
    "    # Copy the state into new_state in order to not modify the parameter state\n",
    "    new_state = deepcopy(state)\n",
    "\n",
    "    # Evolution of the contact network in t time steps\n",
    "    for step in 1:t\n",
    "        # Find infected vertices\n",
    "        for vertex in findall(x -> x == 1, new_state)\n",
    "            # Infect neighbours of the infected vertex\n",
    "            for n in neighbors(net, vertex)\n",
    "                # If not infected \n",
    "                if new_state[n] == 0\n",
    "                    # If rand() < beta -> new_state = 1\n",
    "                    new_state[n] = (rand() < beta ? 1 : 0)\n",
    "                end\n",
    "            end\n",
    "            # Recovering : if recovered, then new_state = 0\n",
    "            new_state[vertex] = (rand() < alpha ? 0 : 1)\n",
    "        end\n",
    "    end\n",
    "\n",
    "    return new_state\n",
    "end"
   ]
  },
  {
   "cell_type": "markdown",
   "metadata": {},
   "source": [
    "#### Test SIS algo on : karat7, n7_2A, toulouse_neigh"
   ]
  },
  {
   "cell_type": "code",
   "execution_count": 10,
   "metadata": {},
   "outputs": [
    {
     "data": {
      "text/plain": [
       "test_SIS"
      ]
     },
     "execution_count": 10,
     "metadata": {},
     "output_type": "execute_result"
    }
   ],
   "source": [
    "\"\"\"Test SIS algo with 4 configurations : \n",
    "1 - Check nobody is infected with 1 infected vertex : \n",
    "        alpha = 0, beta = 0, nb_steps = 1\n",
    "2 - Check nobody is infected with 1 infected vertex recovered : \n",
    "        alpha = 1, beta = 0, nb_steps = 1\n",
    "3 - Check all direct neighbours are infected with 1 infected vertex recovered : \n",
    "        alpha = 1, beta = 1, nb_steps = 1\n",
    "4 - Check that a recovered vertex (vertex 1) can be infected again : \n",
    "        alpha = 1, beta = 1, nb_steps = 2\n",
    "\"\"\"\n",
    "function test_SIS(net,filename,nodelabelsize)\n",
    "# Parameters\n",
    "alphas = [0,1,1,1]\n",
    "betas = [0,0,1,1]\n",
    "nb_steps = [1,1,1,2]\n",
    "nb_vertices = nv(net)\n",
    "\n",
    "# Set up\n",
    "infected_init = 1\n",
    "state = fill(0, nb_vertices)\n",
    "state[infected_init] = 1\n",
    "\n",
    "# Add color \n",
    "nodecolor = [colorant\"lightseagreen\", colorant\"orange\"]\n",
    "\n",
    "for i in 1:4\n",
    "    new_state = SIS(net,state,betas[i],alphas[i],nb_steps[i])\n",
    "    # Fill color on nodes\n",
    "    nodefillc = nodecolor[new_state.+1]\n",
    "    draw(PNG(\"test_SIS_\"*filename*\"_$i.png\", 100cm, 100cm), gplot(net,nodefillc=nodefillc,nodelabel=1:nb_vertices,NODELABELSIZE = nodelabelsize))\n",
    "end\n",
    "\n",
    "end"
   ]
  },
  {
   "cell_type": "code",
   "execution_count": 11,
   "metadata": {},
   "outputs": [],
   "source": [
    "#Test SIS algo on : karat7, n7_2A, toulouse_neigh\n",
    "test_SIS(karat7,\"karat7\",20)\n",
    "test_SIS(n7_2A,\"n7_2A\",7)\n",
    "test_SIS(toulouse_neigh,\"toulouse\",3)"
   ]
  },
  {
   "cell_type": "markdown",
   "metadata": {},
   "source": [
    "<div style=\"width:75%;margin:0 auto;\">\n",
    "\n",
    "### 1.4 Simulate and understand the epidemic\n",
    "    \n",
    "<p style=\"text-align:justify;\">In the SIS model of this project, every disease is characterized by:\n",
    "    \n",
    "* The infection rate $\\beta$ representing the chance of infection when being in contact with an infected individual.\n",
    "* The curing rate $\\alpha$ representing the chance of being cured of the disease.\n",
    "* The effective spreading rate $\\tau=\\frac{\\beta}{\\alpha}$ representing the capacity of the disease to spread. More the disease infect easily ($\\beta$ high) and less it is cured easily ($\\alpha$ low) more $\\tau$ can be high.\n",
    "\n",
    "We are now willing to understand what are the influences of these parameters as well as the contact network shape on an epidemic.</p>"
   ]
  },
  {
   "attachments": {},
   "cell_type": "markdown",
   "metadata": {},
   "source": [
    "<div style=\"width:75%;margin:0 auto;\">\n",
    "\n",
    "<strong style=\"color:cadetblue\">Question 4 (written):</strong> The <code>function SIS</code> you implemented launches one run of an SIS model on a given contact network. As it makes use of randomness, one run of spreading is stochastic. Then what simple method can you propose to provide a prediction of the disease spreading on a given contact network ?\n",
    "<br>  \n",
    "<div style=\"background-color:#E7F1D1\"> <Strong>Answer:   \n",
    "Pour prévoir la propagation de la maladie sur un réseau de contact, on peut réaliser plusieurs simulations du modèle SIS et prendre la moyenne des résultats.  \n",
    "De cette façon, on pourra prendre en compte l'aspect stochastique du modèle et obtenir une prédiction plus précise.\n",
    "</Strong>\n",
    "</div>"
   ]
  },
  {
   "cell_type": "markdown",
   "metadata": {},
   "source": [
    "<div style=\"width:75%;margin:0 auto;\">\n",
    "    \n",
    "<strong style=\"color:cornflowerblue\">Question 5 (code):</strong> Implement the <code>function Simulation_SIS</code> (respect the header and the specifications).\n",
    "    \n",
    "<span style=\"font-size:0.9em\">The corrector should be able to write <code>predictions, taus = Simulation_SIS(net,nbinf,betas,alphas,t,nbsimu)</code> with your code.</span>"
   ]
  },
  {
   "cell_type": "code",
   "execution_count": 12,
   "metadata": {},
   "outputs": [
    {
     "data": {
      "text/plain": [
       "Simulation_SIS (generic function with 1 method)"
      ]
     },
     "execution_count": 12,
     "metadata": {},
     "output_type": "execute_result"
    }
   ],
   "source": [
    "function Simulation_SIS(net,nbinf,betas,alphas,t,nbsimu)\n",
    "    \"\"\"Take a contact network, different diseases (defined by \n",
    "    different parameters alpha and beta), a number of initial\n",
    "    infected people and process nbsimu simulations of SIS over\n",
    "    t time steps. You will provide the prediction of the \n",
    "    percentage of infected at each time t as well as the \n",
    "    spreading rate of each disease.\n",
    "    \n",
    "    PARAMS\n",
    "       net (LightGraph): graph representing the contact network\n",
    "       nbinf (Int32): number of infected at the start of each \n",
    "            simulation\n",
    "       betas (Array{Float64,1}): array of infection rate on edges\n",
    "       alphas (Array{Float64,1}): array of curing rate on vertices\n",
    "       t (Int32): number of time step\n",
    "       nbsimu (Int32): number of simulations\n",
    "    \n",
    "    RETURNS\n",
    "        (Array{Float64,2}): the prediction of the percentage of \n",
    "            infected at each time step and for each disease. The \n",
    "            first dimension contains the time steps and the second\n",
    "            contains the diseases\n",
    "        (Array{Float64,1}): effective spreading rate for each \n",
    "            disease\n",
    "    \n",
    "    ALGO\n",
    "        For each disease, couple (alpha,beta), do t iterations (1 to t time steps) with nbinf initial infected\n",
    "        For each iteration, do nbsimu simulations and compute the average of percentage of infected\n",
    "        And assign the time steps and the average in predictions \n",
    "    \"\"\"\n",
    "\n",
    "    # Initialisation\n",
    "    taus = betas ./ alphas\n",
    "    nb_diseases = length(betas)\n",
    "    predictions = zeros(t,nb_diseases)\n",
    "    nb_vertices = nv(net)\n",
    "    state = fill(0, nb_vertices)\n",
    "    # Set up initial infected \n",
    "    index_infected = rand(1:nb_vertices, (1, nbinf))\n",
    "    state[index_infected] .= 1\n",
    "\n",
    "    for j_diseases in 1:nb_diseases\n",
    "        for i_steps in 1:t\n",
    "            sum_rate = 0.\n",
    "            for k_simu in 1:nbsimu\n",
    "                new_state = SIS(net,state,betas[j_diseases],alphas[j_diseases],i_steps)\n",
    "                # Sum the rate of infected people for each simulation\n",
    "                sum_rate += length(findall(x -> x == 1,new_state))\n",
    "            end\n",
    "            predictions[i_steps,j_diseases] = sum_rate\n",
    "        end \n",
    "    end\n",
    "    # Divide by nb_vertices to convert each terms of the sum_rate into percentage\n",
    "    # Divide the predictions by the nbsimu in order to have the mean percentage\n",
    "    return predictions./(nbsimu*nb_vertices), taus\n",
    "end"
   ]
  },
  {
   "attachments": {},
   "cell_type": "markdown",
   "metadata": {},
   "source": [
    "<div style=\"width:75%;margin:0 auto;\">\n",
    "\n",
    "<strong style=\"color:cadetblue\">Question 6 (written)</strong>: Run the 2 scripts below and describe what you see. Conclude on the influence of $\\tau$, $\\beta$, and $\\alpha$ on an epidemic we can model with SIS.\n",
    "    \n",
    "<br>\n",
    "    \n",
    "<div style=\"background-color:#E7F1D1\"> <strong>Answer:\n",
    "\n",
    "1. L'épidémie ne se propage pas lorsque tau = 0.25\n",
    "2. L'épidémie se propage lorsque tau >= 0.5. De plus, plus tau est elevé, plus le pourcentage à l'équilibre est grand et la propagation (croissance) est rapide.\n",
    "3. Pour un même tau (1 ou 3 dans la simulation), on observe que la propagation est plus rapide pour un couple alpha/beta plus grand et le pourcentage à l'équilibre est identique.\n",
    "\n",
    "Donc on peut en conclure qu'il est important de comprendre l'influence de tau mais aussi de alpha et beta pour étudier la propagation d'une épidémie.\n",
    "</strong></div>"
   ]
  },
  {
   "cell_type": "code",
   "execution_count": 13,
   "metadata": {},
   "outputs": [
    {
     "data": {
      "text/plain": [
       "\"/Users/pwu/Use/N7_1A/2A/S7/UE10-Graphes/graph-project-WU-LANDURE/test_Simu_SIS_karat7_1.png\""
      ]
     },
     "execution_count": 13,
     "metadata": {},
     "output_type": "execute_result"
    }
   ],
   "source": [
    "# Script launching predictions on different diseases on karat7 and printing \n",
    "# the precentage of infected at each time step.\n",
    "#betas=[0.05,0.1,0.01,0.4,0.04,0.05,0.005]\n",
    "#alphas=[0.05,0.1,0.01,0.1,0.01,0.1,0.01]\n",
    "#--------------------------------------------------------------------------\n",
    "# alpha_max = 0.1, beta_max = 0.4\n",
    "betas = [0.025,0.05,0.1,0.01,0.3,0.03,0.4,0.4]\n",
    "alphas = [0.1,0.1,0.1,0.01,0.1,0.01,0.08,0.04]\n",
    "# tau = [0.25, 0.5, 1, 1, 3, 3, 5, 10]\n",
    "label_names = [\"0.25\" \"0.5\" \"1\" \"1\" \"3\" \"3\" \"5\" \"10\"]\n",
    "nbinf_init = 2\n",
    "nb_simu = 200\n",
    "nb_steps = 400\n",
    "\n",
    "title_name = \"(nbinf_init=$nbinf_init, nb_simu=$nb_simu, nb_steps=$nb_steps)\"\n",
    "predictions, _ = Simulation_SIS(karat7,nbinf_init,betas,alphas,nb_steps,nb_simu)\n",
    "Plots.plot(predictions, legend=:bottomright, title=title_name, legendtitle=\"tau\", label=label_names,xlabel=\"Time\",ylabel=\"% of infected\")\n",
    "savefig(\"test_Simu_SIS_karat7_1.png\")"
   ]
  },
  {
   "cell_type": "code",
   "execution_count": 14,
   "metadata": {},
   "outputs": [
    {
     "data": {
      "text/plain": [
       "\"/Users/pwu/Use/N7_1A/2A/S7/UE10-Graphes/graph-project-WU-LANDURE/test_Simu_SIS_toulouse_1.png\""
      ]
     },
     "execution_count": 14,
     "metadata": {},
     "output_type": "execute_result"
    }
   ],
   "source": [
    "# Same as before but applied on toulouse_neigh. May be a bit long to run.\n",
    "betas = [0.05,0.1,0.15,0.25,0.35,0.45,0.55,0.65,0.75,0.85,0.95]\n",
    "alphas = [0.2,0.2,0.2,0.2,0.2,0.2,0.2,0.2,0.2,0.2,0.2]\n",
    "nbinf_init = 100\n",
    "nb_simu = 100\n",
    "nb_steps = 100\n",
    "title_name = \"(nbinf_init=$nbinf_init, nb_simu=$nb_simu, nb_steps=$nb_steps)\"\n",
    "\n",
    "predictions, taus = Simulation_SIS(toulouse_neigh,nbinf_init,betas,alphas,nb_steps,nb_simu)\n",
    "\n",
    "Plots.plot(predictions, legend=:bottomright, title=title_name,label=taus',xlabel=\"Time\",ylabel=\"% of infected\")\n",
    "savefig(\"test_Simu_SIS_toulouse_1.png\")"
   ]
  },
  {
   "attachments": {},
   "cell_type": "markdown",
   "metadata": {},
   "source": [
    "<div style=\"width:75%;margin:0 auto;\">\n",
    "\n",
    "<strong style=\"color:cadetblue\">Question 7 (written):</strong> Change the initial number of infected in the scripts above, is it in accordance with your answer in Question 2 ?\n",
    "    \n",
    "<br>\n",
    "    \n",
    "<div style=\"background-color:#E7F1D1\"> <strong>Answer:  \n",
    "\n",
    "On se rend compte que le nombre initial d'infectés a très peu d'impact sur le pourcentage d'infectés à l'équilibre, ce qui est s'oppose à notre prédiction intuitive de la question 2.\n",
    "</strong></div>"
   ]
  },
  {
   "cell_type": "code",
   "execution_count": 51,
   "metadata": {},
   "outputs": [
    {
     "data": {
      "text/plain": [
       "\"/Users/pwu/Use/N7_1A/2A/S7/UE10-Graphes/graph-project/test_Simu_SIS_karat7_2.png\""
      ]
     },
     "metadata": {},
     "output_type": "display_data"
    }
   ],
   "source": [
    "# Script launching predictions on different diseases on karat7 and printing \n",
    "# the precentage of infected at each time step.\n",
    "#betas=[0.05,0.1,0.01,0.4,0.04,0.05,0.005]\n",
    "#alphas=[0.05,0.1,0.01,0.1,0.01,0.1,0.01]\n",
    "#--------------------------------------------------------------------------\n",
    "# alpha_max = 0.1, beta_max = 0.4\n",
    "betas = [0.025,0.05,0.1,0.01,0.3,0.03,0.4,0.4]\n",
    "alphas = [0.1,0.1,0.1,0.01,0.1,0.01,0.08,0.04]\n",
    "# tau = [0.25, 0.5, 1, 1, 3, 3, 5, 10]\n",
    "label_names = [\"0.25\" \"0.5\" \"1\" \"1\" \"3\" \"3\" \"5\" \"10\"]\n",
    "nbinf_init = 20\n",
    "nb_simu = 200\n",
    "nb_steps = 400\n",
    "\n",
    "title_name = \"(nbinf_init=$nbinf_init, nb_simu=$nb_simu, nb_steps=$nb_steps)\"\n",
    "predictions, _ = Simulation_SIS(karat7,nbinf_init,betas,alphas,nb_steps,nb_simu)\n",
    "Plots.plot(predictions, legend=:bottomright, title=title_name, legendtitle=\"tau\", label=label_names,xlabel=\"Time\",ylabel=\"% of infected\")\n",
    "savefig(\"test_Simu_SIS_karat7_2.png\")\n"
   ]
  },
  {
   "cell_type": "code",
   "execution_count": 52,
   "metadata": {},
   "outputs": [
    {
     "data": {
      "text/plain": [
       "\"/Users/pwu/Use/N7_1A/2A/S7/UE10-Graphes/graph-project/test_Simu_SIS_toulouse_2.png\""
      ]
     },
     "metadata": {},
     "output_type": "display_data"
    }
   ],
   "source": [
    "# Same as before but applied on toulouse_neigh. May be a bit long to run.\n",
    "betas = [0.05,0.1,0.15,0.25,0.35,0.45,0.55,0.65,0.75,0.85,0.95]\n",
    "alphas = [0.2,0.2,0.2,0.2,0.2,0.2,0.2,0.2,0.2,0.2,0.2]\n",
    "nbinf_init = 1000\n",
    "nb_simu = 100\n",
    "nb_steps = 100\n",
    "title_name = \"(nbinf_init=$nbinf_init, nb_simu=$nb_simu, nb_steps=$nb_steps)\"\n",
    "\n",
    "predictions, taus = Simulation_SIS(toulouse_neigh,nbinf_init,betas,alphas,nb_steps,nb_simu)\n",
    "\n",
    "Plots.plot(predictions, legend=:bottomright, title=title_name,label=taus',xlabel=\"Time\",ylabel=\"% of infected\")\n",
    "savefig(\"test_Simu_SIS_toulouse_2.png\")"
   ]
  },
  {
   "cell_type": "markdown",
   "metadata": {},
   "source": [
    "<div style=\"width:75%;margin:0 auto;\">\n",
    "\n",
    "<strong style=\"color:cornflowerblue\">Question 8 (code):</strong> Implement a script plotting the maximum percentage of infected people according to $\\tau$ over 300 time steps for 3 contact networks:\n",
    "\n",
    "* A regular graph of 200 vertices with degree 2.\n",
    "* A regular graph of 200 vertices with degree 5.\n",
    "* A regular graph of 200 vertices with degree 10.\n",
    "\n",
    "You can use the function <code>random_regular_graph(n,d)</code> of LighGraphs. As you probably need to use a certain number of different values of $\\tau$ to visualize something interesting (the more there are the more the figure will be smooth) you should fix $\\alpha$ and make $\\beta$ vary. \n",
    "\n",
    "<span style=\"font-size:0.9em\">A regular graph is a graph where each vertex has the same degree.</span>"
   ]
  },
  {
   "cell_type": "code",
   "execution_count": 54,
   "metadata": {},
   "outputs": [],
   "source": [
    "# Plots of the maximum percentage of infected people according to tau over 300 time \n",
    "# steps for 3 contact networks.\n",
    "\n",
    "# Initialisation\n",
    "nb_vertices = 200\n",
    "nbinf_init = 2\n",
    "nb_steps = 300\n",
    "nb_simu = 100\n",
    "betas = [0.05, 0.1, 0.2, 0.4, 0.6, 0.8]\n",
    "alphas = 0.1*ones(length(betas))\n",
    "degrees = [2, 5, 10]\n",
    "label_name = [\"0.05\" \"0.1\" \"0.2\" \"0.4\" \"0.6\" \"0.8\"]\n",
    "\n",
    "for degree in degrees\n",
    "    title_name = \"(alpha=0.1, d=$degree, nb_simu=$nb_simu, nb_steps=$nb_steps)\"\n",
    "    predictions, taus = Simulation_SIS(random_regular_graph(nb_vertices,degree),nbinf_init,betas,alphas,nb_steps,nb_simu)\n",
    "    Plots.plot(predictions, legend=:bottomright, title=title_name,label=label_name,legendtitle=\"betas\",xlabel=\"Time\",ylabel=\"% of infected\")\n",
    "    savefig(\"test_SIS_regular_$degree.png\")\n",
    "end"
   ]
  },
  {
   "attachments": {},
   "cell_type": "markdown",
   "metadata": {},
   "source": [
    "<div style=\"width:75%;margin:0 auto;\">\n",
    "\n",
    "<strong style=\"color:cadetblue\">Question 9 (written):</strong> Describe the figure and draw conclusions on the epidemic behavior for different degrees $d$ on regular graphs. Thus, in addition of the inner properties of the disease ($\\alpha$, $\\beta$, $\\tau$) what other parameter is essential in the spreading ? Finally, what analogy can be done with real life from this experiment ?\n",
    "    \n",
    "<br>\n",
    "    \n",
    "<div style=\"background-color:#E7F1D1\"> <strong>Answer:  \n",
    "\n",
    "On observe que le degré a un impact à la fois sur la propagation (croissance) de l'épidémie mais également sur son pourcentage d'équilibre.  \n",
    "Ce paramètre peut faire basculer une épidémie qui ne se propage pas à une épidémie qui se propage, d'après le graphique avec d = 2 et d = 5 pour betas = 0.1.  \n",
    "Donc on en conclut que le degré est un facteur déterminant dans l'étude de propagation d'une épidémie.  \n",
    "Dans la vraie vie, le degré d'un sommet correspond au nombre de contacts d'un individu avec son entourage. En effet, plus un individu est en contact avec d'autres, plus il a une chance de tomber malade. Plus ces contacts sont nombreux, plus l'épidémie peut se propager, comme observé sur notre simulation.\n",
    "\n",
    "</strong></div>"
   ]
  },
  {
   "cell_type": "markdown",
   "metadata": {},
   "source": [
    "<div style=\"width:75%;margin:0 auto;\">\n",
    "\n",
    "## Part 2 - SIR and SAIR model\n",
    "<a id='part2'></a>\n",
    "    \n",
    "<p style=\"text-align:justify;\">Unfortunately SIS model is valuable for diseases we can catch back since a cured person can get ill again. This is true for the flu, the cold, etc. However COVID-19 might create immunity for whom already got it and SIS can not take into account immune or dead persons. That is why we propose in this part to consider another model more adapted to COVID-19 called SIR. It stands for Susceptible $\\rightarrow$ Infected $\\rightarrow$ Recovered where the susceptible group contains those who remain susceptible to the infection, the infected group consists of those who not only have the disease but are also in the contagious period of the disease, and the recovered group contains those who were ill, got cured, are not contagious and can not get ill anymore.</p>\n",
    "\n",
    "<br>\n",
    "\n",
    "<p style=\"font-size:0.9em\">M. Youssef and C. Scoglio, <cite>\"An individual-based approach to SIR epidemics in contact networks\"</cite>, Journal of Theoretical Biology 283 (2011)</p>\n",
    "\n",
    "<br>\n",
    "    \n",
    "<p style=\"text-align:justify;\"> One limitation of SIR is that it does not model the reaction of humans when they feel the presence of the epidemic. Indeed, if feeling threaten or surrounded by infected, an individual may change its behaviors: wear mask, wash its hands, etc. This result in a smaller infection rate. That is why in this part we will also consider a variant of SIR called SAIR which stands for Susceptible $\\rightarrow$ Alert $\\rightarrow$ Infected $\\rightarrow$ Recovered. A susceptible individual becomes infected by the infection rate $\\beta_0$, an infected individual recovers and gets immune by the curing rate $\\alpha$, an individual can observe the states of its neighbors, then a susceptible individual might go to the alert state if surrounded by infected individuals with an alert rate $\\kappa$ on each contact with an infected, an alert inividual becomes infected by the infection rate $\\beta_1$ where $0<\\beta_1<\\beta_0$. In our simple SAIR model, an individual can not go back to a susceptible state when he got into the alert state.</p>\n",
    "    \n",
    "<br>\n",
    "    \n",
    "<p style=\"font-size:0.9em\"> F. Darabi Sahneh and C. Scoglio, <cite>\"Epidemic Spread in Human Networks\"</cite>, 50th IEEE Conf. Decision and Contol, Orlando, Florida (2011)</p>"
   ]
  },
  {
   "cell_type": "markdown",
   "metadata": {},
   "source": [
    "<div style=\"width:75%;margin:0 auto;\">\n",
    "\n",
    "### 2.1 SIR\n",
    "    \n",
    "<p style=\"text-align:justify;\">The vector containing the disease status <code>state</code> has to change a bit since we added a new state. Hence it will be an <code>Array{Int32,1}</code> where Susceptible=0, Infected=1, and Recovered=2.</p>"
   ]
  },
  {
   "cell_type": "markdown",
   "metadata": {},
   "source": [
    "<div style=\"width:75%;margin:0 auto;\">\n",
    "    \n",
    "<strong style=\"color:cornflowerblue\">Question 10 (code):</strong> Implement the <code>function SIR</code> (respect the header and the specifications). You can use <code>rand</code> to translate the probabilities. Test your algorithm on <code>karat7</code>, <code>n7_2A</code>, and <code>toulouse_neigh</code> with arbitrary $\\beta$, $\\alpha$, and $t$. Recovered vertices should appear in a different color (<code>colorant\"purple\"</code>).\n",
    "    \n",
    "<span style=\"font-size:0.9em\">The corrector should be able to write <code>new_state = SIR(net,state,beta,alpha,t)</code> with your code.</span>"
   ]
  },
  {
   "cell_type": "code",
   "execution_count": 55,
   "metadata": {},
   "outputs": [
    {
     "data": {
      "text/plain": [
       "SIR (generic function with 1 method)"
      ]
     },
     "metadata": {},
     "output_type": "display_data"
    }
   ],
   "source": [
    "function SIR(net,state,beta,alpha,t)\n",
    "    \"\"\"Take a contact network at a certain state and apply t time steps\n",
    "    of an SIR model.\n",
    "    \n",
    "    PARAMS\n",
    "       net (LightGraph): graph representing the contact network\n",
    "       state (Array{Int32,1}): disease status of each vertex\n",
    "       beta (Float64): infection rate\n",
    "       alpha (Float64): curing rate\n",
    "       t (Int32): number of time step\n",
    "    \n",
    "    RETURNS\n",
    "        (Array{Int32,1}): The new state of the contact network after t time steps.\n",
    "    \"\"\"\n",
    "    # Copy the state into new_state in order to not modify the parameter state\n",
    "    new_state = deepcopy(state)\n",
    "\n",
    "    # Evolution of the contact network in t time steps\n",
    "    for step in 1:t\n",
    "        # Find infected vertices\n",
    "        for vertex in findall(x -> x == 1, new_state)\n",
    "            # Infect neighbours of the infected vertex\n",
    "            for n in neighbors(net, vertex)\n",
    "                # If never infected \n",
    "                if new_state[n] == 0\n",
    "                    # if rand() < beta -> new_state = 1\n",
    "                    new_state[n] = (rand() < beta ? 1 : 0)\n",
    "                end\n",
    "            end\n",
    "            # Recovering, if recovered, then new_state = 2\n",
    "            new_state[vertex] = (rand() < alpha ? 2 : 1)\n",
    "        end\n",
    "    end\n",
    "\n",
    "    return new_state\n",
    "end"
   ]
  },
  {
   "attachments": {},
   "cell_type": "markdown",
   "metadata": {},
   "source": [
    "#### Test SIR algo on : karat7, n7_2A, toulouse_neigh"
   ]
  },
  {
   "cell_type": "code",
   "execution_count": 56,
   "metadata": {},
   "outputs": [
    {
     "data": {
      "text/plain": [
       "test_SIR"
      ]
     },
     "metadata": {},
     "output_type": "display_data"
    }
   ],
   "source": [
    "\"\"\"Test SIR algo with 4 configurations : \n",
    "1 - Check nobody is infected with 1 infected vertex : \n",
    "        alpha = 0, beta = 0, nb_steps = 1\n",
    "2 - Check nobody is infected with 1 infected vertex recovered : \n",
    "        alpha = 1, beta = 0, nb_steps = 1\n",
    "3 - Check all direct neighbours are infected with 1 infected vertex recovered : \n",
    "        alpha = 1, beta = 1, nb_steps = 1\n",
    "4 - Check that a recovered vertex can't be infected again : \n",
    "        alpha = 1, beta = 1, nb_steps = 2\n",
    "\"\"\"\n",
    "function test_SIR(net,filename,nodelabelsize)\n",
    "# Parameters\n",
    "alphas = [0,1,1,1]\n",
    "betas = [0,0,1,1]\n",
    "nb_steps = [1,1,1,2]\n",
    "nb_vertices = nv(net)\n",
    "\n",
    "# Set up\n",
    "infected_init = 1\n",
    "state = fill(0, nb_vertices)\n",
    "state[infected_init] = 1\n",
    "\n",
    "# Add color \n",
    "nodecolor = [colorant\"lightseagreen\", colorant\"orange\", colorant\"purple\"]\n",
    "\n",
    "for i in 1:4\n",
    "    new_state = SIR(net,state,betas[i],alphas[i],nb_steps[i])\n",
    "    # Fill color on nodes\n",
    "    nodefillc = nodecolor[new_state.+1]\n",
    "    draw(PNG(\"test_SIR_\"*filename*\"_$i.png\", 100cm, 100cm), gplot(net,nodefillc=nodefillc,nodelabel=1:nb_vertices,NODELABELSIZE = nodelabelsize))\n",
    "end\n",
    "\n",
    "end"
   ]
  },
  {
   "cell_type": "code",
   "execution_count": 57,
   "metadata": {},
   "outputs": [],
   "source": [
    "#Test SIR algo on : karat7, n7_2A, toulouse_neigh\n",
    "test_SIR(karat7,\"karat7\",20)\n",
    "test_SIR(n7_2A,\"n7_2A\",7)\n",
    "test_SIR(toulouse_neigh,\"toulouse\",3)"
   ]
  },
  {
   "attachments": {},
   "cell_type": "markdown",
   "metadata": {},
   "source": [
    "#### Question 11"
   ]
  },
  {
   "cell_type": "markdown",
   "metadata": {},
   "source": [
    "<div style=\"width:75%;margin:0 auto;\">\n",
    "    \n",
    "<strong style=\"color:cornflowerblue\">Question 11 (code):</strong> Implement the <code>function Simulation_SIR</code> (respect the header and the specifications).\n",
    "    \n",
    "<span style=\"font-size:0.9em\">The corrector should be able to write <code>predictions, taus = Simulation_SIR(net,nbinf,betas,alphas,t,nbsimu)</code> with your code.</span>"
   ]
  },
  {
   "cell_type": "code",
   "execution_count": 59,
   "metadata": {},
   "outputs": [
    {
     "data": {
      "text/plain": [
       "Simulation_SIR (generic function with 1 method)"
      ]
     },
     "metadata": {},
     "output_type": "display_data"
    }
   ],
   "source": [
    "function Simulation_SIR(net,nbinf,betas,alphas,t,nbsimu)\n",
    "    \"\"\"Take a contact network, different diseases (defined by \n",
    "    different parameters alpha and beta), a number of initial\n",
    "    infected people and process nbsimu simulations of SIR over\n",
    "    t time steps. You will provide the prediction of the \n",
    "    percentage of infected at each time t as well as the \n",
    "    spreading rate of each disease.\n",
    "    \n",
    "    PARAMS\n",
    "       net (LightGraph): graph representing the contact network\n",
    "       nbinf (Int32): number of infected at the start of each \n",
    "            simulation\n",
    "       betas (Array{Float64,1}): array of infection rate on edges\n",
    "       alphas (Array{Float64,1}): array of curing rate on vertices\n",
    "       t (Int32): number of time step\n",
    "       nbsimu (Int32): number of simulations\n",
    "    \n",
    "    RETURNS\n",
    "        (Array{Float64,3}): the prediction of the percentage of \n",
    "            infected, the percentage of susceptible and the \n",
    "            percentage of recovered at each time step and for each \n",
    "            disease. The first dimension contains the time steps,\n",
    "            the second contains the diseases, and the third the status\n",
    "            (Infected: [:,:,1], Recovered: [:,:,2], Susceptible: [:,:,3])\n",
    "        (Array{Float64,1}): effective spreading rate for each \n",
    "            disease\n",
    "    \"\"\"\n",
    "    # Initialisation\n",
    "    taus = betas ./ alphas\n",
    "    nb_diseases = length(betas)\n",
    "    predictions = zeros(t,nb_diseases,3)\n",
    "    nb_vertices = nv(net)\n",
    "    state = fill(0, nb_vertices)\n",
    "    # Set up initial infected \n",
    "    index_infected = rand(1:nb_vertices, (1, nbinf))\n",
    "    state[index_infected] .= 1\n",
    "\n",
    "    for j_diseases in 1:nb_diseases\n",
    "        for i_steps in 1:t\n",
    "            mean_percentage = zeros(1,3)\n",
    "            for k_simu in 1:nbsimu\n",
    "                new_state = SIR(net,state,betas[j_diseases],alphas[j_diseases],i_steps)\n",
    "                # Sum the rate of infected people for each simulation\n",
    "                mean_percentage[1] += length(findall(x -> x == 1,new_state))\n",
    "                mean_percentage[2] += length(findall(x -> x == 2,new_state))\n",
    "                mean_percentage[3] += length(findall(x -> x == 0,new_state))\n",
    "            end\n",
    "            predictions[i_steps,j_diseases,1] = mean_percentage[1]\n",
    "            predictions[i_steps,j_diseases,2] = mean_percentage[2]\n",
    "            predictions[i_steps,j_diseases,3] = mean_percentage[3]\n",
    "        end \n",
    "    end\n",
    "    # Divide by nb_vertices to convert each terms of the sum_rate into percentage\n",
    "    # Divide the predictions by the nbsimu in order to have the mean percentage\n",
    "    return predictions./(nb_vertices*nbsimu), taus\n",
    "end"
   ]
  },
  {
   "attachments": {},
   "cell_type": "markdown",
   "metadata": {},
   "source": [
    "<div style=\"width:75%;margin:0 auto;\">\n",
    "\n",
    "<strong style=\"color:cadetblue\">Question 12 (written):</strong> Run the script below and describe what you see. Why the infected curve does not behave the same as for SIS ? \n",
    "    \n",
    "<br>\n",
    "\n",
    "<div style=\"background-color:#E7F1D1\"> <strong>Answer:  \n",
    "\n",
    "On observe que l'épidémie ne se propage pas. En effet, un individu guéri ne peut plus être à nouveau infecté.  \n",
    "Donc il est normal qu'au bout d'un certain temps toute la population sera immunisée.  \n",
    "C'est pourquoi on observe un comportement totalement différent que celui du modèle SIS, où les individus peuvent à nouveau être infectés.  \n",
    "On comprend alors pourquoi les scientifiques parlaient d'immunité collective lors de l'épidémie du COVID.\n",
    "</strong></div>"
   ]
  },
  {
   "cell_type": "code",
   "execution_count": 71,
   "metadata": {},
   "outputs": [
    {
     "data": {
      "text/plain": [
       "\"/Users/pwu/Use/N7_1A/2A/S7/UE10-Graphes/graph-project/test_Simu_SIR_n7_2A.png\""
      ]
     },
     "metadata": {},
     "output_type": "display_data"
    }
   ],
   "source": [
    "# Script launching prediction on one disease on n7_2A and plotting the percentage\n",
    "# of infected, susceptible and recovered at each time step.\n",
    "predictions, taus = Simulation_SIR(n7_2A,2,[0.3],[0.2],50,1000)\n",
    "\n",
    "Plots.plot([predictions[:,:,1] predictions[:,:,2] predictions[:,:,3]],\n",
    "           label=[\"Infected\" \"Recovered\" \"Susceptible\"],xlabel=\"t\",ylabel=\"%\")\n",
    "savefig(\"test_Simu_SIR_n7_2A.png\")\n"
   ]
  },
  {
   "attachments": {},
   "cell_type": "markdown",
   "metadata": {},
   "source": [
    "<div style=\"width:75%;margin:0 auto;\">\n",
    "\n",
    "<strong style=\"color:cadetblue\">Question 13 (written):</strong> As for Question 6 script 2 plot the evolution of the percentage of infected for many $\\tau$. Describe what you see.\n",
    "    \n",
    "<br>\n",
    "    \n",
    "<div style=\"background-color:#E7F1D1\"> <strong>Answer:  \n",
    "\n",
    "On observe que toutes les courbes se comportent de la même manière peu importe la valeur de tau.  \n",
    "En effet, après avoir atteint un pic de pourcentage au bout de 5 itérations à peu près, le pourcentage décroit très rapidement. Comme expliqué précédemment, ceci est du à la capacité des individus à être immunisé.  \n",
    "On se rend compte donc que si les individus sont capables d'être immunisés pour une maladie, alors la situation épidémique sera favorable naturellement. \n",
    "</strong></div>"
   ]
  },
  {
   "cell_type": "code",
   "execution_count": 67,
   "metadata": {},
   "outputs": [
    {
     "data": {
      "text/plain": [
       "\"/Users/pwu/Use/N7_1A/2A/S7/UE10-Graphes/graph-project/test_Simu_SIR_toulouse.png\""
      ]
     },
     "metadata": {},
     "output_type": "display_data"
    }
   ],
   "source": [
    "# Equivalent experiment as for Question 6 script 2\n",
    "betas = [0.05,0.1,0.15,0.25,0.35,0.45,0.55,0.65,0.75,0.85,0.95]\n",
    "alphas = [0.2,0.2,0.2,0.2,0.2,0.2,0.2,0.2,0.2,0.2,0.2]\n",
    "nbinf_init = 100\n",
    "nb_simu = 100\n",
    "nb_steps = 100\n",
    "title_name = \"(nbinf_init=$nbinf_init, nb_simu=$nb_simu, nb_steps=$nb_steps)\"\n",
    "\n",
    "predictions, taus = Simulation_SIR(toulouse_neigh,nbinf_init,betas,alphas,nb_steps,nb_simu)\n",
    "\n",
    "Plots.plot(predictions[:,:,1], legend=:topright, title=title_name,label=taus',xlabel=\"Time\",ylabel=\"% of infected\")\n",
    "savefig(\"test_Simu_SIR_toulouse.png\")"
   ]
  },
  {
   "cell_type": "markdown",
   "metadata": {},
   "source": [
    "<div style=\"width:75%;margin:0 auto;\">\n",
    "\n",
    "<strong style=\"color:cornflowerblue\">Question 14 (code):</strong> Implement a script plotting the number of infected over 75 time steps for $\\beta=0.3$ and $\\alpha=0.2$ fixed and on 3 contact networks:\n",
    "    \n",
    "* A regular graph of 200 vertices with degree 2.\n",
    "* A regular graph of 200 vertices with degree 5.\n",
    "* A regular graph of 200 vertices with degree 10.\n",
    "    "
   ]
  },
  {
   "cell_type": "code",
   "execution_count": 70,
   "metadata": {},
   "outputs": [],
   "source": [
    "# Plots of the number of infected people according to tau over 75 time \n",
    "# steps for 3 contact networks.\n",
    "# Initialisation\n",
    "nb_vertices = 200\n",
    "nbinf_init = 2\n",
    "beta = 0.3\n",
    "alpha = 0.2\n",
    "tau = beta/alpha\n",
    "nb_steps = 75\n",
    "nb_simu = 300\n",
    "\n",
    "for degree in [2, 5, 10]\n",
    "    title_name = \"(d = $degree, nb_simu=$nb_simu, nb_steps=$nb_steps, nb_vertices=$nb_vertices)\"\n",
    "    predictions, taus = Simulation_SIR(random_regular_graph(nb_vertices,degree),nbinf_init,beta,alpha,nb_steps,nb_simu)\n",
    "    predictions[:,1,1] .*= nb_vertices\n",
    "    Plots.plot(predictions[:,1,1], legend=:topright, title=title_name,xlabel=\"Time steps\",ylabel=\"number of infected\")\n",
    "    savefig(\"test_SIR_regular_$degree.png\")\n",
    "end"
   ]
  },
  {
   "attachments": {},
   "cell_type": "markdown",
   "metadata": {},
   "source": [
    "<div style=\"width:75%;margin:0 auto;\">\n",
    "\n",
    "<strong style=\"color:cadetblue\">Question 15 (written):</strong> From the previous figure, explain why lockdown can be interesting when hospital places are lacking ?\n",
    "\n",
    "<br>\n",
    "    \n",
    "<div style=\"background-color:#E7F1D1\"> <strong>Answer:  \n",
    "\n",
    "Quand les hôpitaux manquent de places, le fait d'avoir recours au confinement permet de réduire le nombre de contacts entre les individus. Dans notre modèle cela correspond à réduire le degré d. Ceci a pour conséquence de réduire le pic de l'épidémie et donc de réduire le besoin maximum de places dans les hopitaux pour un jour donné. En effet l'objectif est d'étaler l'épidémie de sorte à ce que la demande en hospitalisation soit étalée dans le temps afin de limiter la saturation.\n",
    "</strong></div>"
   ]
  },
  {
   "cell_type": "markdown",
   "metadata": {},
   "source": [
    "<div style=\"width:75%;margin:0 auto;\">\n",
    "\n",
    "### 2.2 SAIR\n",
    "    \n",
    "<p style=\"text-align:justify;\">The vector containing the disease status <code>state</code> has to change a bit since we added a new state. Hence it will be an <code>Array{Int32,1}</code> where Susceptible=0, Infected=1, Recovered=2, and Alert=3.</p>"
   ]
  },
  {
   "cell_type": "markdown",
   "metadata": {},
   "source": [
    "<div style=\"width:75%;margin:0 auto;\">\n",
    "    \n",
    "<strong style=\"color:cornflowerblue\">Question 16 (code):</strong> Implement the <code>function SAIR</code> (respect the header and the specifications). You can use <code>rand</code> to translate the probabilities. Test your algorithm on <code>karat7</code>, <code>n7_2A</code>, and <code>toulouse_neigh</code> with arbitrary $\\beta$, $\\alpha$, and $t$. Alerted vertices should appear in a different color (<code>colorant\"lightgreen\"</code>).\n",
    "    \n",
    "<span style=\"font-size:0.9em\">The corrector should be able to write <code>new_state = SAIR(net,state,beta0,beta1,alpha,kappa,t)</code> with your code.</span>"
   ]
  },
  {
   "cell_type": "code",
   "execution_count": 17,
   "metadata": {},
   "outputs": [
    {
     "data": {
      "text/plain": [
       "SAIR (generic function with 1 method)"
      ]
     },
     "execution_count": 17,
     "metadata": {},
     "output_type": "execute_result"
    }
   ],
   "source": [
    "function SAIR(net,state,beta0,beta1,alpha,kappa,t)\n",
    "    \"\"\"Take a contact network at a certain state and apply t time steps\n",
    "    of an SAIR model.\n",
    "    \n",
    "    PARAMS\n",
    "       net (LightGraph): graph representing the contact network\n",
    "       state (Array{Int32,1}): disease status of each vertex\n",
    "       beta0 (Float64): infection rate when not alert\n",
    "       beta1 (Float64): infection rate when alert\n",
    "       alpha (Float64): curing rate\n",
    "       kappa (Float64): alerting rate\n",
    "       t (Int32): number of time step\n",
    "    \n",
    "    RETURNS\n",
    "        (Array{Int32,1}): The new state of the contact network after t time steps.\n",
    "    \"\"\"      \n",
    "    # Copy the state into new_state in order to not modify the parameter state\n",
    "    new_state = deepcopy(state)\n",
    "\n",
    "    # Evolution of the contact network in t time steps\n",
    "    for step in 1:t\n",
    "        # Alert checking for each vertex\n",
    "        for vertex in findall(x -> x == 0, new_state)\n",
    "            nb_infected_neighbors = length(findall(x -> x == 1, neighbors(net, vertex)))\n",
    "            # For each infected contact, possible to get Alerted, and stop if alerted\n",
    "            while (nb_infected_neighbors > 0) && (new_state[vertex] != 3)\n",
    "                new_state[vertex] = (rand() < kappa ? 3 : 0)\n",
    "                nb_infected_neighbors -= 1\n",
    "            end\n",
    "        end\n",
    "\n",
    "        # Find infected vertices\n",
    "        for vertex in findall(x -> x == 1, new_state)\n",
    "            # Infect neighbours of the infected vertex\n",
    "            for n in neighbors(net, vertex)\n",
    "                # If never Infected/Susceptible \n",
    "                if new_state[n] == 0\n",
    "                    # if rand() < beta -> new_state = 1\n",
    "                    new_state[n] = (rand() < beta0 ? 1 : 0)\n",
    "                elseif new_state[n] == 3\n",
    "                    new_state[n] = (rand() < beta1 ? 1 : 3)\n",
    "                end\n",
    "            end\n",
    "            # Recovering, if recovered, then new_state = 2\n",
    "            new_state[vertex] = (rand() < alpha ? 2 : 1)\n",
    "        end\n",
    "    end\n",
    "\n",
    "    return new_state\n",
    "end"
   ]
  },
  {
   "attachments": {},
   "cell_type": "markdown",
   "metadata": {},
   "source": [
    "#### Test SAIR algo on : karat7, n7_2A, toulouse_neigh"
   ]
  },
  {
   "cell_type": "code",
   "execution_count": 15,
   "metadata": {},
   "outputs": [
    {
     "data": {
      "text/plain": [
       "test_SAIR"
      ]
     },
     "execution_count": 15,
     "metadata": {},
     "output_type": "execute_result"
    }
   ],
   "source": [
    "\"\"\"Test SAIR algo with 4 configurations : \n",
    "1 - Check that nobody is infected with 1 infected vertex and its neighbors are all in alert state :\n",
    "        alpha = 0, beta0 = 1, beta1 = 0, kappa = 1, nb_steps = 1\n",
    "2 - Check that nobody is infected with 1 infected vertex recovered and its neighbors are all in alert state  : \n",
    "        alpha = 1, beta0 = 1, beta1 = 0, kappa = 1, nb_steps = 1\n",
    "3 - Check that all Susceptible direct neighbours are infected with 1 infected vertex which get recovered simultaneously : \n",
    "        alpha = 1, beta0 = 1, beta1= 0, kappa = 0.5, nb_steps = 1\n",
    "4 - Check that alerted vertices are less infected : \n",
    "        alpha = 0.3, beta0 = 0.8, beta1= 0.4, kappa = 0.5, nb_steps = 2\n",
    "\"\"\"\n",
    "function test_SAIR(net,filename,nodelabelsize)\n",
    "        # Parameters\n",
    "        betas_0 = [1,1,1,0.8]\n",
    "        betas_1 = [0,0,0,0.4]\n",
    "        alphas = [0,1,1,0.3]\n",
    "        kappas = [1,1,0.5,0.5]\n",
    "        nb_steps = [1,1,1,2]\n",
    "        nb_vertices = nv(net)\n",
    "\n",
    "        # Set up\n",
    "        infected_init = 1\n",
    "        state = fill(0, nb_vertices)\n",
    "        state[infected_init] = 1\n",
    "\n",
    "        # Add color \n",
    "        nodecolor = [colorant\"lightseagreen\", colorant\"orange\",colorant\"purple\",colorant\"lightgreen\"]\n",
    "\n",
    "        for i in 1:4\n",
    "        new_state = SAIR(net,state,betas_0[i],betas_1[i],alphas[i],kappas[i],nb_steps[i])\n",
    "        # Fill color on nodes\n",
    "        nodefillc = nodecolor[new_state.+1]\n",
    "        draw(PNG(\"test_SAIR_\"*filename*\"_$i.png\", 100cm, 100cm), gplot(net,nodefillc=nodefillc,nodelabel=1:nb_vertices,NODELABELSIZE = nodelabelsize))\n",
    "        end\n",
    "end"
   ]
  },
  {
   "cell_type": "code",
   "execution_count": 18,
   "metadata": {},
   "outputs": [],
   "source": [
    "#Test SIR algo on : karat7, n7_2A, toulouse_neigh\n",
    "test_SAIR(karat7,\"karat7\",20)\n",
    "test_SAIR(n7_2A,\"n7_2A\",7)\n",
    "test_SAIR(toulouse_neigh,\"toulouse\",3)"
   ]
  },
  {
   "cell_type": "code",
   "execution_count": 30,
   "metadata": {},
   "outputs": [],
   "source": [
    "# Test on Karat7\n",
    "\"\"\"Test on karat7, with 4 configurations : \n",
    "1 - Check that nobody is infected with 1 infected vertex and its neighbors are all in alert state :\n",
    "    alpha = 0, beta0 = 1, beta1 = 0, kappa = 1, nb_steps = 1\n",
    "2 - Check that nobody is infected with 1 infected vertex recovered and its neighbors are all in alert state  : \n",
    "    alpha = 1, beta0 = 1, beta1 = 0, kappa = 1, nb_steps = 1\n",
    "3 - Check that all Susceptible direct neighbours are infected with 1 infected vertex which get recovered simultaneously : \n",
    "    alpha = 1, beta0 = 1, beta1= 0, kappa = 0.5, nb_steps = 1\n",
    "4 - Check that alerted vertices are less infected : \n",
    "    alpha = 0.3, beta0 = 0.8, beta1= 0.4, kappa = 0.5, nb_steps = 2\n",
    "\"\"\"\n",
    "# Parameters\n",
    "betas_0 = [1,1,1,0.8]\n",
    "betas_1 = [0,0,0,0.4]\n",
    "alphas = [0,1,1,0.3]\n",
    "kappas = [1,1,0.5,0.5]\n",
    "nb_steps = [1,1,1,2]\n",
    "nb_vertices = nv(karat7)\n",
    "\n",
    "# Set up\n",
    "infected_init = 1\n",
    "state_karat7 = fill(0, nb_vertices)\n",
    "state_karat7[infected_init] = 1\n",
    "\n",
    "# Add color \n",
    "nodecolor = [colorant\"lightseagreen\", colorant\"orange\",colorant\"purple\",colorant\"lightgreen\"]\n",
    "\n",
    "for i in 1:4\n",
    "    new_state = SAIR(karat7,state_karat7,betas_0[i],betas_1[i],alphas[i],kappas[i],nb_steps[i])\n",
    "    # Fill color on nodes\n",
    "    nodefillc = nodecolor[new_state.+1]\n",
    "    draw(PNG(\"test_SAIR_karat7_$i.png\", 100cm, 100cm), gplot(karat7,nodefillc=nodefillc,nodelabel=1:nb_vertices,NODELABELSIZE = 20))\n",
    "end\n"
   ]
  },
  {
   "cell_type": "markdown",
   "metadata": {},
   "source": [
    "<div style=\"width:75%;margin:0 auto;\">\n",
    "    \n",
    "<strong style=\"color:cornflowerblue\">Question 17 (code):</strong> Implement the <code>function Simulation_SAIR</code> (respect the header and the specifications).\n",
    "    \n",
    "<span style=\"font-size:0.9em\">The corrector should be able to write <code>predictions, taus = Simulation_SAIR(net,nbinf,betas0,betas1,alphas,kappas,t,nbsimu)</code> with your code.</span>"
   ]
  },
  {
   "cell_type": "code",
   "execution_count": 75,
   "metadata": {},
   "outputs": [
    {
     "data": {
      "text/plain": [
       "Simulation_SAIR (generic function with 1 method)"
      ]
     },
     "metadata": {},
     "output_type": "display_data"
    }
   ],
   "source": [
    "function Simulation_SAIR(net,nbinf,betas0,betas1,alphas,kappas,t,nbsimu)\n",
    "    \"\"\"Take a contact network, different diseases (defined by \n",
    "    different parameters alpha and beta), a number of initial\n",
    "    infected people and process nbsimu simulations of SAIR over\n",
    "    t time steps. You will provide the prediction of the \n",
    "    percentage of infected at each time t as well as the \n",
    "    spreading rate of each disease.\n",
    "    \n",
    "    PARAMS\n",
    "       net (LightGraph): graph representing the contact network\n",
    "       nbinf (Int32): number of infected at the start of each \n",
    "            simulation\n",
    "       betas0 (Array{Float64,1}): array of infection rate when not alert on edges\n",
    "       betas1 (Array{Float64,1}): array of infection rate when alert on edges\n",
    "       alphas (Array{Float64,1}): array of curing rate on vertices\n",
    "       kappas (Array{Float64,1}): array of alerting rate on edges\n",
    "       t (Int32): number of time step\n",
    "       nbsimu (Int32): number of simulations\n",
    "    \n",
    "    RETURNS\n",
    "        (Array{Float64,3}): the prediction of the percentage of \n",
    "            infected, the percentage of susceptible and the \n",
    "            percentage of recovered at each time step and for each \n",
    "            disease. The first dimension contains the time steps,\n",
    "            the second contains the diseases, and the third the status\n",
    "            (Infected: [:,:,1], Recovered: [:,:,2], Susceptible: [:,:,3])\n",
    "        (Array{Float64,1}): effective spreading rate for each \n",
    "            disease\n",
    "    \"\"\"\n",
    "    # Initialisation\n",
    "    taus = (betas0.+betas1)./(2*alphas)\n",
    "    nb_diseases = length(betas0)\n",
    "    predictions = zeros(t,nb_diseases,3)\n",
    "    nb_vertices = nv(net)\n",
    "    state = fill(0, nb_vertices)\n",
    "    # Set up initial infected \n",
    "    index_infected = rand(1:nb_vertices, (1, nbinf))\n",
    "    state[index_infected] .= 1\n",
    "\n",
    "    for j_dis in 1:nb_diseases\n",
    "        for i_steps in 1:t\n",
    "            mean_percentage = zeros(3)\n",
    "            for k_simu in 1:nbsimu\n",
    "                new_state = SAIR(net,state,betas0[j_dis],betas1[j_dis],alphas[j_dis],kappas[j_dis],i_steps)\n",
    "                mean_percentage[1] += length(findall(x -> x == 1,new_state))\n",
    "                mean_percentage[2] += length(findall(x -> x == 2,new_state))\n",
    "                mean_percentage[3] += length(findall(x -> x == 0,new_state))\n",
    "                \n",
    "            end\n",
    "            predictions[i_steps,j_dis,1] = mean_percentage[1]\n",
    "            predictions[i_steps,j_dis,2] = mean_percentage[2]\n",
    "            predictions[i_steps,j_dis,3] = mean_percentage[3]\n",
    "        end \n",
    "    end\n",
    "    return predictions./(nbsimu*nb_vertices), taus\n",
    "end"
   ]
  },
  {
   "attachments": {},
   "cell_type": "markdown",
   "metadata": {},
   "source": [
    "<div style=\"width:75%;margin:0 auto;\">\n",
    "\n",
    "<strong style=\"color:cadetblue\">Question 18 (written):</strong> Run the script below comparing the number of infected of SAIR and SIR and comment what you see.\n",
    "    \n",
    "<br>\n",
    "    \n",
    "<div style=\"background-color:#E7F1D1\"> <strong>Answer:  \n",
    "\n",
    "On observe que les deux courbes ont la même courbure mais celle de SAIR est en dessous de celle de SIR.  \n",
    "En effet, le pic du pourcentage d'infectés du SAIR est presque deux fois plus faible que celle du SIR.  \n",
    "Ceci n'est pas étonnant puisque avec le principe d'état Alerte, les individus ont moins de chance d'être contaminés, d'où les résultats de la courbe.  \n",
    "Au niveau des paramètres, la taux d'infection d'un individu Alerte est de 0.1 contre 0.2 pour un individu Susceptible. On retrouve bien le facteur 2 des courbes. \n",
    "</strong></div>"
   ]
  },
  {
   "cell_type": "code",
   "execution_count": 78,
   "metadata": {},
   "outputs": [
    {
     "data": {
      "text/plain": [
       "\"/Users/pwu/Use/N7_1A/2A/S7/UE10-Graphes/graph-project/test_comparison5_SAIR_SIR_neigh.png\""
      ]
     },
     "metadata": {},
     "output_type": "display_data"
    }
   ],
   "source": [
    "# Script launching prediction on one disease on toulouse_neigh and plotting the percentage\n",
    "# of infected at each time step for SIR and SAIR.\n",
    "predictions1, taus1 = Simulation_SAIR(toulouse_neigh,2,[0.2],[0.1],[0.1],[0.4],100,1000)\n",
    "predictions2, taus2 = Simulation_SIR(toulouse_neigh,2,[0.2],[0.1],100,1000)\n",
    "\n",
    "Plots.plot([predictions1[:,:,1] predictions2[:,:,1]],\n",
    "           label=[\"SAIR\" \"SIR\"],xlabel=\"t\",ylabel=\"%\")\n",
    "savefig(\"Simu_SAIR_SIR_toulouse.png\")"
   ]
  },
  {
   "attachments": {},
   "cell_type": "markdown",
   "metadata": {},
   "source": [
    "<div style=\"width:75%;margin:0 auto;\">\n",
    "\n",
    "<strong style=\"color:cadetblue\">Question 19 (written):</strong> Of course the presented SIS, SIR, and SAIR models are limitated in their modelization of the reality. Formulate few of these limitations (at least 2). \n",
    "Propose few algorithm addons/ideas (at least 2) which would make the models more complex and more accurate in regards to the reality.\n",
    "    \n",
    "<br>\n",
    "    \n",
    "<div style=\"background-color:#E7F1D1\"> <strong>Answer:   \n",
    "  \n",
    "Limites :  \n",
    "1. Dans la réalité, nous n'avons pas le même type de relation/contact avec les personnes de notre entourage. Par exemple, on a plus de chances d'être contaminé par une personne de notre foyer (pas de port du masque et pas de distanciation) qu'avec une personne issue de notre classe (port du masque + eventuelle distanciation).\n",
    "2. De plus, on sait aussi que la durée de contact entre un individu et une personne infectée augmente fortement le risque d'être contaminé. Par exemple, on a moins de chance d'être contaminé par une personne que l'on rencontre dans un ascenseur (durée courte) comparé à une personne avec qui on passe la journée dans une salle de classe.\n",
    "3. On sait également qu'un milieu ouvert/fermé/aéré n'a pas le même impact épidémique. Un milieu fermé entraine plus de chances de d'être contaminé qu'un milieu ouvert/aéré régulièrement.\n",
    "4. Sachant que la transmission du COVID se fait par postillon, le moment des repas est un des moments les plus à risque : pas de port du masque, pas de distanciation et postillon par mastication/élocution. \n",
    "\n",
    "Solutions : \n",
    "1. On pourrait choisir de modéliser notre réseau dont les sommets possèdent un poids qui représenterait le niveau de contact entre deux personnes (foyer, prise de repas ensemble, distanciation)\n",
    "2. On pourrait également ajouter un facteur multiplicatif de comtamination sur la durée. Si un individu est pendant plusieurs jours en contact avec une personnes infectée, son risque de contamination serait plus élevée que pendant les premières 24h.\n",
    "3. Dans la vraie vie, il se passe plusieurs jours avant qu'on se rende compte qu'on est positif. Donc l'état d'alerte se déclenche plusieurs jours après et pas dès qu'une personne est infectée. L'état d'alerte devrait être utilisé autrement. Les individus sont en état d'alerte lorsque l'Etat décide de mettre en place des mesures sanitaires (gel hydroalcoolique et masque). \n",
    "4. Dans la réalité, une fois qu'une personne est testé positive et se confine. Donc le réseau est censée être dynamique au niveau des sommets --> à chaque pas de temps, on devrait mettre à jour le poids de chaque sommet.\n",
    "</strong></div>"
   ]
  },
  {
   "cell_type": "markdown",
   "metadata": {},
   "source": [
    "<div style=\"width:75%;margin:0 auto;\">\n",
    "\n",
    "## Part 3 - Discover patient zero\n",
    "    \n",
    "<p style=\"text-align:justify;\"> In the two previous parts you may have realised that understanding and controlling the spread of epidemics on contact networks is an important task. However, information about\n",
    "the origin of the epidemic could be also extremely useful to reduce or prevent future outbreaks. Thus, in this part we will focus on algorithm solutions to answer this issue.</p>\n",
    "    \n",
    "<p style=\"text-align:justify;\"> The stochastic nature of infection propagation makes the estimation of the epidemic origin intrinsically hard: indeed, different initial conditions can lead to the same configuration at the observation time. Methods such as the distance centrality or the Jordan center try to approximate it. They both rely on spatial information by stating that the first infected is probably at the center of the cluster of infection. Mathematically:\n",
    "    \n",
    "* The jordan center is expressed as $\\min_{v\\in \\mathcal{I}}\\max_{n\\in \\mathcal{I}}d(v,n)$ where $\\mathcal{I}$ is a connected component of the original contact network containing all infected and recovered vertices, and where $d(\\cdot,\\cdot)$ is the distance (= the shortest path) between 2 vertices (if not weighted graph each edge accounts for 1 unit). \n",
    "* The distance centrality is expressed as $\\min_{v\\in \\mathcal{I}}\\sum_{n\\in \\mathcal{I}}d(v,n)(\\delta_{n,I} + \\delta_{n,R}/\\alpha)$, where $\\delta_{n,I}=1$ if the vertex n is infected ($=0$ otherwise), and where $\\delta_{n,R}=1$ if the vertex n is recovered ($=0$ otherwise). You may note that in distance centrality we increase the weight of the recovered vertices by a factor $1/\\alpha$, it translates the fact that recovered vertices tend to be closer to the origin of the epidemic since they probably got ill before.\n",
    "    \n",
    "    \n",
    "We formulate the problem as follow: given a contact network and a snapshot of epidemic spread at a certain time, determine the infection source. A snapshot is a given <code>state</code> array for a contact network.</p>\n",
    "\n",
    "<br>\n",
    "    \n",
    "<p style=\"font-size:0.9em\"> A. Y. Lokhov, M. Mézard, H. Ohta, and L. Zdeborová, <cite>\"Inferring the origin of an epidemic with a dynamic message-passing algorithm\"</cite>, Physical Review (2014)</p>"
   ]
  },
  {
   "cell_type": "markdown",
   "metadata": {},
   "source": [
    "<div style=\"width:75%;margin:0 auto;\">\n",
    "    \n",
    "<strong style=\"color:cornflowerblue\">Question 20 (code):</strong> Implement the <code>function jordan</code> (respect the header and the specifications). You will need to use the function <code>dijkstra_shortest_paths</code> of the LighGraphs library, refer to the doc for more information. If there are multiple minimal vertices, then return the first one.\n",
    "    \n",
    "<span style=\"font-size:0.9em\">The corrector should be able to write <code>zero = jordan(g,state,alpha)</code> with your code.</span>"
   ]
  },
  {
   "cell_type": "code",
   "execution_count": 86,
   "metadata": {},
   "outputs": [
    {
     "data": {
      "text/plain": [
       "remove_susceptible"
      ]
     },
     "metadata": {},
     "output_type": "display_data"
    }
   ],
   "source": [
    "\"\"\"remove_susceptible: Remove Susceptible vertex from a graph by removing their edges.\n",
    "    \n",
    "PARAMS\n",
    "    g (LightGraph): graph representing the contact network\n",
    "    state (Array{Int32,1}): disease status of each vertex\n",
    "\n",
    "RETURNS\n",
    "    g_I (LightGraph): new graph representing the contact network\n",
    "    I (Array{Int32,1}): vertices who are not Susceptible\n",
    "\"\"\"\n",
    "function remove_susceptible(net,state)\n",
    "\n",
    "    net_I = deepcopy(net)\n",
    "    vertices_to_remove = findall(x -> x == 0, state)\n",
    "    for v_rem in vertices_to_remove\n",
    "        for vertex in vertices(net_I)\n",
    "            rem_edge!(net_I,vertex,v_rem)\n",
    "        end\n",
    "    end \n",
    "\n",
    "    I = findall(x -> x > 0, state)\n",
    "    \n",
    "    return net_I, I\n",
    "end"
   ]
  },
  {
   "cell_type": "code",
   "execution_count": 93,
   "metadata": {},
   "outputs": [
    {
     "data": {
      "text/plain": [
       "jordan (generic function with 1 method)"
      ]
     },
     "metadata": {},
     "output_type": "display_data"
    }
   ],
   "source": [
    "function jordan(g,state)\n",
    "    \"\"\"Find patient zero by mean of the jordan center method.\n",
    "    \n",
    "    PARAMS\n",
    "        g (LightGraph): graph representing the contact network\n",
    "        state (Array{Int32,1}): disease status of each vertex\n",
    "    \n",
    "    RETURNS\n",
    "        (Int32): the patient zero vertex number \n",
    "    \"\"\"\n",
    "    # Remove Susceptible by removing edges\n",
    "    g_I, I = remove_susceptible(g,state)\n",
    "\n",
    "    # Initialisation with Inf because we use min function after\n",
    "    max_distances = fill(Inf,nv(g))\n",
    "    for v in I\n",
    "        # Compute all the distance from v to others vertices and get the maximum one\n",
    "        distance_v_n = dijkstra_shortest_paths(g_I,v).dists\n",
    "        # Take only Infected/Recovered index, the distance is < number of vertices + 1 \n",
    "        index_I = findall(x -> x < nv(g_I)+1, distance_v_n)\n",
    "        # Take the maximum distance which are not equal to Inf (= Susceptible)\n",
    "        max_distances[v]= maximum(distance_v_n[index_I])\n",
    "    end\n",
    "\n",
    "    min_value, patient_zero = findmin(max_distances)\n",
    "    return patient_zero\n",
    "end"
   ]
  },
  {
   "attachments": {},
   "cell_type": "markdown",
   "metadata": {},
   "source": [
    "#### test_remove_susceptible()"
   ]
  },
  {
   "cell_type": "code",
   "execution_count": null,
   "metadata": {},
   "outputs": [],
   "source": [
    "\"\"\"testing the function remove_susceptible\"\"\"\n",
    "function test_remove_susceptible()\n",
    "    net = deepcopy(karat7)\n",
    "    state = zeros(nv(karat7))\n",
    "    state[2] = 1\n",
    "    state[3] = 1\n",
    "\n",
    "    net_I, I = remove_susceptible(net,state)\n",
    "\n",
    "    for i in 1:nv(net)\n",
    "        println(\"nb neighbors of vertex $i in net : \", length(neighbors(net,i)), \" (\", length(neighbors(net_I,i)),\")\")\n",
    "    end\n",
    "    #distance_v_n = dijkstra_shortest_paths(net_I,2).dists\n",
    "    #println(\"the distance array : \", distance_v_n)\n",
    "    #index_I = findall(x -> x < nv(karat7)+1, distance_v_n)\n",
    "    #println(\"the inf index array : \", index_I)\n",
    "end\n",
    "test_remove_susceptible()"
   ]
  },
  {
   "attachments": {},
   "cell_type": "markdown",
   "metadata": {},
   "source": [
    "#### DRAFT : Understand my errors using rem_vertex!(g,v)"
   ]
  },
  {
   "cell_type": "code",
   "execution_count": null,
   "metadata": {},
   "outputs": [],
   "source": [
    "net = deepcopy(karat7)\n",
    "state = deepcopy(state_karat7)\n",
    "state[2] = 1\n",
    "state[1] = 1\n",
    "vertices_to_remove = findall(x -> x == 0, state)\n",
    "for vertex in vertices_to_remove\n",
    "    for n in neighbors(net,vertex)\n",
    "        rem_edge!(net,vertex,n)\n",
    "    end\n",
    "end\n",
    "#vertices(net)\n",
    "for i in vertices(net)\n",
    "    println(\"vertices_number : \",i,\", edges_number = \", length(neighbors(net,i)))\n",
    "end"
   ]
  },
  {
   "cell_type": "code",
   "execution_count": null,
   "metadata": {},
   "outputs": [],
   "source": [
    "net = deepcopy(karat7)\n",
    "net2 = deepcopy(karat7)\n",
    "println(\"number of edges in the graph : \", ne(net))\n",
    "println(\"number of neighbors of vertex 1 : \", length(neighbors(net,1)))\n",
    "neig = deepcopy(neighbors(net2,1))\n",
    "println(\"neigbors before : \", neig)\n",
    "\n",
    "for n in neig\n",
    "    #rem_edge!(net,1,n)\n",
    "    rem_edge!(net2,n,1)\n",
    "end\n",
    "println(\"number of edges in the graph after removing vertex 1 edges : \", ne(net))\n",
    "println(\"net edges : \", sum(net))\n",
    "println(\"neigbors after : \", neighbors(net,1))\n",
    "println(\"neigbors before : \", neig)\n",
    "println(\"nb vertices : \", nv(net))\n",
    "\n",
    "for i in 1:nv(net2)\n",
    "    println(\"nb neighbors of vertex $i in net : \", length(neighbors(net,i)), \" (\", length(neighbors(net2,i)),\")\")\n",
    "    end\n"
   ]
  },
  {
   "cell_type": "code",
   "execution_count": null,
   "metadata": {},
   "outputs": [],
   "source": [
    "println(\"\\n%%%%%%%%%%%%%%%%%%%%%%%%%%%%%\\nTest removing edge\\n%%%%%%%%%%%%%%%%%%%%%%%%%%%%%\\n\")\n",
    "net = deepcopy(karat7)\n",
    "println(\"nb edges in the net : \", ne(net))\n",
    "println(\"nb voisins : \",length(neighbors(net,1)))\n",
    "for n in neighbors(net,1)\n",
    "    rem_edge!(net,1,n)\n",
    "    rem_edge!(net,n,1)\n",
    "end\n",
    "println(\"nb edges after removing : \", ne(net))\n",
    "#println(net)\n",
    "# the vertex 1 has 16 neighbors, and the net has 78 edges\n",
    "# So if I removed all edges from vertex 1, the net should have 62 edges left\n",
    "\n",
    "# Try now by removing vertex\n",
    "println(\"\\n%%%%%%%%%%%%%%%%%%%%%%%%%%%%%\\nTest removing vertex\\n%%%%%%%%%%%%%%%%%%%%%%%%%%%%%\\n\")\n",
    "net2 = deepcopy(karat7)\n",
    "net3 = deepcopy(karat7)\n",
    "println(\"nb edges in the net : \", ne(net2))\n",
    "println(\"nb vertices in the net : \", nv(net2))\n",
    "println(\"\\nremoving the vertex number 1 ...\\n\")\n",
    "rem_vertex!(net3,1)\n",
    "println(\"nb edges after in the net : \", ne(net3))\n",
    "println(\"nb vertices after in the net : \", nv(net3))\n",
    "println()\n",
    "for i in 1:nv(net2)-1\n",
    "println(\"nb neighbors of vertex $i in net2 : \", length(neighbors(net2,i)), \" and net3 : \", length(neighbors(net3,i)))\n",
    "end\n",
    "println(\"nb neighbors of vertex 34 in net2 : \",length(neighbors(net2,34)) )\n"
   ]
  },
  {
   "attachments": {},
   "cell_type": "markdown",
   "metadata": {},
   "source": [
    "#### Question 21\n",
    "<div style=\"width:75%;margin:0 auto;\">\n",
    "    \n",
    "<strong style=\"color:cornflowerblue\">Question 21 (code):</strong> Implement the <code>function distance</code> (respect the header and the specifications). You will need to use the function <code>dijkstra_shortest_paths</code> of the LighGraphs library, refer to the doc for more information. If there are multiple minimal vertices, then return the first one.\n",
    "    \n",
    "<span style=\"font-size:0.9em\">The corrector should be able to write <code>zero = distance(g,state,alpha)</code> with your code.</span>"
   ]
  },
  {
   "cell_type": "code",
   "execution_count": 99,
   "metadata": {},
   "outputs": [
    {
     "data": {
      "text/plain": [
       "distance (generic function with 1 method)"
      ]
     },
     "metadata": {},
     "output_type": "display_data"
    }
   ],
   "source": [
    "function distance(g,state,alpha)\n",
    "    \"\"\"Find patient zero by mean of the distance centrality method.\n",
    "    \n",
    "    PARAMS\n",
    "        g (LightGraph): graph representing the contact network\n",
    "        state (Array{Int32,1}): disease status of each vertex\n",
    "        alpha (Float64): curing rate\n",
    "    \n",
    "    RETURNS\n",
    "        (Int32): the patient zero vertex number \n",
    "    \"\"\"\n",
    "    # Remove Susceptible by removing edges\n",
    "    g_I, I = remove_susceptible(g,state)\n",
    "\n",
    "    # Create weight vector for computing the multiplication coefficient\n",
    "    # if state[v] == 0 -> weight = -1/alpha (will be filtered) \n",
    "    # if state[v] == 1 -> weight = 1\n",
    "    # if state[v] == 2 -> weight = 1/alpha\n",
    "    # weight[v] = state[v]*(2-state[v]) + (state[v]-1)/alpha \n",
    "    weights = state.*(2 .- state) .+ (state.-1)./alpha \n",
    "\n",
    "    # Initialisating the sum distances\n",
    "    sum_distances = fill(Inf,nv(g))\n",
    "    for v in I\n",
    "        sum_distances[v] = 0.\n",
    "        # Compute all the distance from v to others vertices and get the maximum one\n",
    "        distance_v_n = dijkstra_shortest_paths(g_I,v).dists\n",
    "        distance_weighted = distance_v_n.*weights\n",
    "        for n in I\n",
    "            sum_distances[v] += distance_weighted[n]\n",
    "        end\n",
    "    end\n",
    "\n",
    "    _, patient_zero = findmin(sum_distances)\n",
    "    return patient_zero\n",
    "    \n",
    "end"
   ]
  },
  {
   "attachments": {},
   "cell_type": "markdown",
   "metadata": {},
   "source": [
    "<div style=\"width:75%;margin:0 auto;\">\n",
    "\n",
    "<strong style=\"color:cadetblue\">Question 22 (written):</strong> Run the 3 following scripts using your functions <code>jordan</code> and <code>distance</code> and comment on the results.\n",
    "    \n",
    "The contact network is karat7 for 2 different patient zero and a $50\\times 50$ grid. The real patient zero (\"Z\"), your jordan (\"J\") and distance (\"D\") approximations are appearing in <code>colorant\"lightblue\"</code>.\n",
    "    \n",
    "<br>\n",
    "    \n",
    "<div style=\"background-color:#E7F1D1\"> <strong> Answer:  \n",
    "\n",
    "1. karat7_Q22_1 :  \n",
    "    On observe que les deux méthodes jordan et distance trouvent bien le patient zéro, ce qui semble valider partiellement notre algorithme.  \n",
    "    On pouvait s'y attendre dans la mesure où le patient zero se trouve bien au centre des infectés, ses individus voisins correspondent à peu près à 80% des invidivus infectés.  \n",
    "    De même il est également au centre des individus rétablis. Cette situation correspond aux hypothèses des algorithmes que l'on a implanté. Donc c'est normal que nos algos retrouvent bien le patient zéro.\n",
    "\n",
    "2. karat7_Q22_2 :\n",
    "    Ce cas est très différent du précédent car le patient zéro ne se trouve pas forcément au \"centre\" de l'ensemble des infectés. On voit bien que l'algo jordan a retourné l'individu le plus au centre des infectés. Cependant, l'algorithme distance obtient un meilleur résultat que jordan puisque la position des personnes rétablies a un poids beaucoup plus important que les autres infectés. Sachant que l'individu renvoyé par l'algo distance correspond de base à une personne rétablie.  \n",
    "    Le fait que l'algo distance ne trouve pas exactement le patient, à une distance près, peut s'expliquer par le fait que l'algo ne prend pas en compte juste les personnes rétablis mais aussi la position des infectés. Or le centre des infectés induit en erreur sur le patient zero. C'est pourquoi il existe cette petite erreur de la part de l'algo distance.  \n",
    "\n",
    "3. grid50_Q22 :  \n",
    "    Dans ce cas, dont la structure est différente des deux précédentes, le réseau correspond à une grille qui permet de mieux analyser les performances de nos algos, à la fois pour vérifier qu'ils fonctionnent correctement, par rapport aux valeurs attendus, et pour vérifier leur capacité à trouver le patient zéro. \n",
    "    En effet, dans les graphes précédents, il est légèrement difficile d'intuiter le centre des infectés comme les arêtes ne sont pas de tailles égales alors qu'elles sont censées l'être. Ce n'est possible que si le graphe est planaire, ce qui est le cas pour les grilles.  \n",
    "    En ce qui concerne les résultats de la simulation, on observe que l'algo de jordan et distance ne trouvent pas exactement le patient zero.  \n",
    "    On peut l'expliquer par le fait que si on dessine le plus petit carré qui englobe tous les infectés et qu'on trace les diagonales du carré, on s'aperçoit qu'en terme de distribution des infectés, il y en a légèrement plus dans le demi-espace inférieur gauche. C'est pourquoi le point de l'algo de jordan se situe de ce côté là.  \n",
    "    On peut appliquer le même raisonner sur les individus rétablis, plus présente en bas à gauche du carré.  \n",
    "\n",
    "CONCLUSION :  \n",
    "\n",
    "    Les algorithmes de jordan (et distance) peuvent être intéressant pour trouver ou approximer le patient zero si ce dernier se trouve vraiment au centre de l'épidémie (ou et proche).  \n",
    "    Cependant on peut voir que le patient zero ne se trouve pas forcément au centre de l'épidémie, ce qui peut rendre ces derniers algorithmes obsolètes.  \n",
    "</strong></div>"
   ]
  },
  {
   "cell_type": "code",
   "execution_count": 100,
   "metadata": {},
   "outputs": [
    {
     "name": "stderr",
     "output_type": "stream",
     "text": [
      "┌ Warning: type LightGraphs.SimpleGraphs.SimpleGraph{Int64} does not exist in workspace; reconstructing\n",
      "└ @ JLD2 /Users/pwu/.julia/packages/JLD2/1YVED/src/data/reconstructing_datatypes.jl:495\n"
     ]
    }
   ],
   "source": [
    "# Loading a snapshot of karat7\n",
    "@load \"karat7_Q22_1.jld2\" g state pat_zero alpha beta loc_x loc_y \n",
    "g = Graphs.SimpleGraphs.smallgraph(:karate)\n",
    "\n",
    "# Run the patient zero finding function\n",
    "cent_pat_zero = distance(g,state,alpha)\n",
    "jor_pat_zero = jordan(g,state)\n",
    "\n",
    "# Some display options \n",
    "labels = Array{String, 1}(undef,nv(g))\n",
    "for k=1:nv(g)\n",
    "    if state[k]==1\n",
    "        labels[k]=\"I\"\n",
    "    elseif state[k]==2\n",
    "        labels[k]=\"R\"\n",
    "    else\n",
    "        labels[k]=\"S\"\n",
    "    end\n",
    "end\n",
    "\n",
    "if cent_pat_zero==jor_pat_zero==pat_zero\n",
    "    labels[cent_pat_zero]=\"D+J+Z\"\n",
    "elseif cent_pat_zero==jor_pat_zero\n",
    "    labels[cent_pat_zero]=\"D+J\"\n",
    "    labels[pat_zero]=\"Z\"\n",
    "elseif cent_pat_zero==pat_zero\n",
    "    labels[cent_pat_zero]=\"D+Z\"\n",
    "    labels[jor_pat_zero]=\"J\"\n",
    "elseif jor_pat_zero==pat_zero\n",
    "    labels[jor_pat_zero]=\"J+Z\"\n",
    "    labels[cent_pat_zero]=\"D\"\n",
    "else\n",
    "    labels[cent_pat_zero]=\"D\"\n",
    "    labels[jor_pat_zero]=\"J\"\n",
    "    labels[pat_zero]=\"Z\"\n",
    "end\n",
    "\n",
    "nodecolor = [colorant\"lightseagreen\", colorant\"orange\", colorant\"purple\"]\n",
    "colors = nodecolor[state + ones(Int32,nv(g))]\n",
    "colors[pat_zero] = colorant\"red\"\n",
    "colors[cent_pat_zero] = colorant\"red\"\n",
    "colors[jor_pat_zero] = colorant\"red\"\n",
    "\n",
    "# Display\n",
    "draw(PNG(\"karat7_Q22_1.png\", 20cm, 20cm), gplot(g,loc_x,loc_y,nodefillc=colors,nodelabel=labels))"
   ]
  },
  {
   "cell_type": "code",
   "execution_count": 101,
   "metadata": {},
   "outputs": [
    {
     "name": "stderr",
     "output_type": "stream",
     "text": [
      "┌ Warning: type LightGraphs.SimpleGraphs.SimpleGraph{Int64} does not exist in workspace; reconstructing\n",
      "└ @ JLD2 /Users/pwu/.julia/packages/JLD2/1YVED/src/data/reconstructing_datatypes.jl:495\n"
     ]
    }
   ],
   "source": [
    "# Loading a snapshot of karat7\n",
    "@load \"karat7_Q22_2.jld2\" g state pat_zero alpha beta loc_x loc_y \n",
    "g = Graphs.SimpleGraphs.smallgraph(:karate)\n",
    "\n",
    "\n",
    "# Run the patient zero finding function\n",
    "cent_pat_zero = distance(g,state,alpha)\n",
    "jor_pat_zero = jordan(g,state)\n",
    "\n",
    "# Some display options \n",
    "labels = Array{String, 1}(undef,nv(g))\n",
    "for k=1:nv(g)\n",
    "    if state[k]==1\n",
    "        labels[k]=\"I\"\n",
    "    elseif state[k]==2\n",
    "        labels[k]=\"R\"\n",
    "    else\n",
    "        labels[k]=\"S\"\n",
    "    end\n",
    "end\n",
    "\n",
    "if cent_pat_zero==jor_pat_zero==pat_zero\n",
    "    labels[cent_pat_zero]=\"D+J+Z\"\n",
    "elseif cent_pat_zero==jor_pat_zero\n",
    "    labels[cent_pat_zero]=\"D+J\"\n",
    "    labels[pat_zero]=\"Z\"\n",
    "elseif cent_pat_zero==pat_zero\n",
    "    labels[cent_pat_zero]=\"D+Z\"\n",
    "    labels[jor_pat_zero]=\"J\"\n",
    "elseif jor_pat_zero==pat_zero\n",
    "    labels[jor_pat_zero]=\"J+Z\"\n",
    "    labels[cent_pat_zero]=\"D\"\n",
    "else\n",
    "    labels[cent_pat_zero]=\"D\"\n",
    "    labels[jor_pat_zero]=\"J\"\n",
    "    labels[pat_zero]=\"Z\"\n",
    "end\n",
    "\n",
    "nodecolor = [colorant\"lightseagreen\", colorant\"orange\", colorant\"purple\"]\n",
    "colors = nodecolor[state + ones(Int32,nv(g))]\n",
    "colors[pat_zero] = colorant\"red\"\n",
    "colors[cent_pat_zero] = colorant\"red\"\n",
    "colors[jor_pat_zero] = colorant\"red\"\n",
    "\n",
    "# Display\n",
    "draw(PNG(\"karat7_Q22_2.png\", 20cm, 20cm), gplot(g,loc_x,loc_y,nodefillc=colors,nodelabel=labels))"
   ]
  },
  {
   "cell_type": "code",
   "execution_count": 102,
   "metadata": {},
   "outputs": [
    {
     "name": "stderr",
     "output_type": "stream",
     "text": [
      "┌ Warning: type LightGraphs.SimpleGraphs.SimpleGraph{Int64} does not exist in workspace; reconstructing\n",
      "└ @ JLD2 /Users/pwu/.julia/packages/JLD2/1YVED/src/data/reconstructing_datatypes.jl:495\n"
     ]
    }
   ],
   "source": [
    "# Loading a snapshot of grid50\n",
    "@load \"grid50_Q22.jld2\" g state pat_zero alpha beta loc_x loc_y\n",
    "g = Graphs.SimpleGraphs.grid([50,50])\n",
    "\n",
    "\n",
    "# Run the patient zero finding function\n",
    "cent_pat_zero = distance(g,state,alpha)\n",
    "jor_pat_zero = jordan(g,state)\n",
    "\n",
    "# Some display options \n",
    "labels = Array{String, 1}(undef,nv(g))\n",
    "for k=1:nv(g)\n",
    "    if state[k]==1\n",
    "        labels[k]=\"I\"\n",
    "    elseif state[k]==2\n",
    "        labels[k]=\"R\"\n",
    "    else\n",
    "        labels[k]=\"S\"\n",
    "    end\n",
    "end\n",
    "\n",
    "if cent_pat_zero==jor_pat_zero==pat_zero\n",
    "    labels[cent_pat_zero]=\"D+J+Z\"\n",
    "    println(\"D+J+Z\")\n",
    "elseif cent_pat_zero==jor_pat_zero\n",
    "    labels[cent_pat_zero]=\"D+J\"\n",
    "    labels[pat_zero]=\"Z\"\n",
    "elseif cent_pat_zero==pat_zero\n",
    "    labels[cent_pat_zero]=\"D+Z\"\n",
    "    labels[jor_pat_zero]=\"J\"\n",
    "elseif jor_pat_zero==pat_zero\n",
    "    labels[jor_pat_zero]=\"J+Z\"\n",
    "    labels[cent_pat_zero]=\"D\"\n",
    "else\n",
    "    labels[cent_pat_zero]=\"D\"\n",
    "    labels[jor_pat_zero]=\"J\"\n",
    "    labels[pat_zero]=\"Z\"\n",
    "end\n",
    "\n",
    "nodecolor = [colorant\"lightseagreen\", colorant\"orange\", colorant\"purple\"]\n",
    "colors = nodecolor[state + ones(Int32,nv(g))]\n",
    "colors[pat_zero] = colorant\"red\"\n",
    "colors[cent_pat_zero] = colorant\"red\"\n",
    "colors[jor_pat_zero] = colorant\"red\"\n",
    "\n",
    "# Display\n",
    "draw(PNG(\"grid50_Q22.png\", 100cm, 100cm), gplot(g,loc_x,loc_y,nodefillc=colors,nodelabel=labels,nodesize = 100))"
   ]
  }
 ],
 "metadata": {
  "kernelspec": {
   "display_name": "Julia 1.8.2",
   "language": "julia",
   "name": "julia-1.8"
  },
  "language_info": {
   "file_extension": ".jl",
   "mimetype": "application/julia",
   "name": "julia",
   "version": "1.8.2"
  }
 },
 "nbformat": 4,
 "nbformat_minor": 4
}
